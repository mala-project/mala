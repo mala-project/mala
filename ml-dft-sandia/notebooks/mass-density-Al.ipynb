{
 "cells": [
  {
   "cell_type": "code",
   "execution_count": 1,
   "metadata": {},
   "outputs": [
    {
     "name": "stdout",
     "output_type": "stream",
     "text": [
      "Populating the interactive namespace from numpy and matplotlib\n"
     ]
    }
   ],
   "source": [
    "# Load packages\n",
    "import math\n",
    "import scipy as sp\n",
    "import numpy as np\n",
    "from scipy import optimize\n",
    "#from scipy import interpolate\n",
    "#from scipy.interpolate import InterpolatedUnivariateSpline\n",
    "#from scipy import integrate\n",
    "%pylab inline\n",
    "#from scipy.optimize import fmin, curve_fit\n",
    "#import pandas as pd\n",
    "#import mpmath as mp\n",
    "#from mpmath import polylog\n",
    "import seaborn as sns\n",
    "from IPython.display import HTML"
   ]
  },
  {
   "cell_type": "markdown",
   "metadata": {},
   "source": [
    "## Determine mass density"
   ]
  },
  {
   "cell_type": "code",
   "execution_count": 29,
   "metadata": {},
   "outputs": [
    {
     "name": "stdout",
     "output_type": "stream",
     "text": [
      "('Lattice constant:', 16.914007594384106)\n",
      "('Volume of supercell [Angstrom^3]:', 4838.821077828514)\n",
      "('Volume of supercell [Bohr^3]:', 32654.184089542396)\n",
      "('Mass density [g/cc]:', 1.0000000000000007)\n"
     ]
    }
   ],
   "source": [
    "# Mass density of Aluminum under ambient conditions: 2.7 g/cc\n",
    "amu = 1.660539040E-27 # atomic mass unit in kg\n",
    "Angstrom2m = 1.0E-10  # Bohr radius in m\n",
    "Angstrom2Bohr=1.88973 # Conversion from Angstrom to Bohr\n",
    "Al_amu = 26.981539    # molar mass of Aluminum\n",
    "#lattice = 16.914007594384106      # Angstrom\n",
    "## lattice constants in Angstrom\n",
    "a = lattice #8.582861487          \n",
    "b = a\n",
    "c = a       #8.091999410\n",
    "print(\"Lattice constant:\", a)\n",
    "alpha = math.radians(90.0)     # in radians\n",
    "beta = alpha\n",
    "gamma = alpha\n",
    "## Volume of parallelepiped\n",
    "V_Al = a*b*c*math.sqrt(1.0+2.0*math.cos(alpha)*math.cos(beta)*math.cos(gamma)\\\n",
    "      -math.cos(alpha)**2-math.cos(beta)**2-math.cos(gamma)**2)\n",
    "print(\"Volume of supercell [Angstrom^3]:\", V_Al)\n",
    "print(\"Volume of supercell [Bohr^3]:\", V_Al*Angstrom2Bohr**3)\n",
    "## Compute mass density in g/cm^3\n",
    "N_Al = 108\n",
    "# number of atoms in the super cell\n",
    "rho_Al = N_Al*Al_amu*amu*1000/(V_Al*Angstrom2m**3*100**3)\n",
    "print(\"Mass density [g/cc]:\", rho_Al)\n",
    "\n",
    "# Compare this with the volume in VASP OUTCAR"
   ]
  },
  {
   "cell_type": "markdown",
   "metadata": {},
   "source": [
    "## Determine lattice constant of cubic lattice for a given mass density"
   ]
  },
  {
   "cell_type": "code",
   "execution_count": 24,
   "metadata": {},
   "outputs": [],
   "source": [
    "def lattice_par(rho_Al):\n",
    "    # Input : Mass density in g/cc\n",
    "    # Output: lattice constant in Angstrom\n",
    "    amu = 1.660539040E-27 # atomic mass unit in kg\n",
    "    Angstrom2m = 1.0E-10  # Bohr radius in m\n",
    "    Al_amu = 26.981539    # molar mass of Aluminum\n",
    "    N_Al = 108\n",
    "    result = (N_Al*Al_amu*amu*1000/(rho_Al*Angstrom2m**3*100**3))**(1./3.)\n",
    "    return result"
   ]
  },
  {
   "cell_type": "code",
   "execution_count": 25,
   "metadata": {},
   "outputs": [
    {
     "data": {
      "text/plain": [
       "16.914007594384106"
      ]
     },
     "execution_count": 25,
     "metadata": {},
     "output_type": "execute_result"
    }
   ],
   "source": [
    "lattice_par(1.0)"
   ]
  }
 ],
 "metadata": {
  "kernelspec": {
   "display_name": "Python 2",
   "language": "python",
   "name": "python2"
  },
  "language_info": {
   "codemirror_mode": {
    "name": "ipython",
    "version": 2
   },
   "file_extension": ".py",
   "mimetype": "text/x-python",
   "name": "python",
   "nbconvert_exporter": "python",
   "pygments_lexer": "ipython2",
   "version": "2.7.16"
  }
 },
 "nbformat": 4,
 "nbformat_minor": 2
}
