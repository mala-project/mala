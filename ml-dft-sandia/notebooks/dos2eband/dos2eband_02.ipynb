{
 "cells": [
  {
   "cell_type": "markdown",
   "metadata": {},
   "source": [
    "_Updated 200220_"
   ]
  },
  {
   "cell_type": "code",
   "execution_count": null,
   "metadata": {},
   "outputs": [],
   "source": [
    "import math\n",
    "import numpy as np\n",
    "import scipy as sp\n",
    "from scipy import integrate\n",
    "from scipy import interpolate\n",
    "from scipy.optimize import minimize\n",
    "import matplotlib.pyplot as plt"
   ]
  },
  {
   "cell_type": "markdown",
   "metadata": {},
   "source": [
    "Parameters"
   ]
  },
  {
   "cell_type": "code",
   "execution_count": 32,
   "metadata": {},
   "outputs": [],
   "source": [
    "# Temperature\n",
    "temp = 298\n",
    "\n",
    "# Fermi Level\n",
    "# The Fermi energy printed out by QE (in the DOS output file) is 7.770. \n",
    "# The output is truncated and it turns this is too inaccurate to obtain the correct electron number. \n",
    "# We determined the Fermi energy to higher accuracy (by imposing the correct electron number = 3*256 = 768).\n",
    "# There are 3 electrons per atom due to the choice of pseudopotential. \n",
    "# CAUTION: Need to define an accurate Fermi energy for each snapshot. \n",
    "fermi_energy = 7.770345\n",
    "\n",
    "# Boltzmann's constant\n",
    "k = 8.617333262145e-5\n",
    "\n",
    "# Conversion factor from Rydberg to eV\n",
    "Ry2eV = 13.6056980659\n",
    "\n",
    "# Gaussian smearing in QE-DOS calculations\n",
    "# taken from QE-DOS input file\n",
    "sigma_qe = 0.032"
   ]
  },
  {
   "cell_type": "markdown",
   "metadata": {},
   "source": [
    "Load eigenvalues and DOS from QE output for two snapshots"
   ]
  },
  {
   "cell_type": "code",
   "execution_count": 3,
   "metadata": {},
   "outputs": [],
   "source": [
    "# filepath: blake.sandia.gov:/home/acangi/q-e_calcs/Al/datasets/vasp_econ_snapshots/298K/2.699g/170726180545.0/100Ry_k333\n",
    "## Snapshot 0: Eigenvalues (from PW std output file, slurm-1006575.out)\n",
    "### rows: band index, row i: eigs[i , :]\n",
    "### cols: k points,   col j: eigs[: , j]\n",
    "eigs_qe_00 = np.loadtxt('snap_0/EIGS', delimiter=',')\n",
    "k_weights_qe_00 = np.loadtxt('snap_0/k_weights', delimiter=',')\n",
    "## DOS\n",
    "dos_qe_00 = np.loadtxt('snap_0/Al.dos', skiprows=1)\n",
    "## Snapshot 1: Eigenvalues (from PW std output file, slurm-1006846.out)\n",
    "### rows: band index, row i: eigs[i , :]\n",
    "### cols: k points,   col j: eigs[: , j]\n",
    "eigs_qe_01 = np.loadtxt('snap_1/EIGS', delimiter=',')\n",
    "k_weights_qe_01 = np.loadtxt('snap_1/k_weights', delimiter=',')\n",
    "## DOS\n",
    "dos_qe_01 = np.loadtxt('snap_1/Al.dos', skiprows=1)"
   ]
  },
  {
   "cell_type": "markdown",
   "metadata": {},
   "source": [
    "Define functions"
   ]
  },
  {
   "cell_type": "code",
   "execution_count": 4,
   "metadata": {},
   "outputs": [],
   "source": [
    "# Fermi-Dirac distribution function\n",
    "def fd_function(energy, eF, t):                                                                                                 \n",
    "    return 1.0 / (1.0 + np.exp((energy - eF) / (k * t)))"
   ]
  },
  {
   "cell_type": "code",
   "execution_count": 5,
   "metadata": {},
   "outputs": [],
   "source": [
    "# Define Gaussian\n",
    "## Note: Gaussian without factor of 1/sqrt(2)\n",
    "def gaussian(en, eF, sigma):\n",
    "    result = 1.0/np.sqrt(np.pi*sigma**2)*np.exp(-1.0*((en-eF)/sigma)**2)\n",
    "    return result"
   ]
  },
  {
   "cell_type": "markdown",
   "metadata": {},
   "source": [
    "Here we define functions which compute reference values of the electron number and band energy = sum of eigenvalues.\n",
    "Recall the some definitions:\n",
    "\n",
    "The electron number is defined as\n",
    "$$ N = \\sum_{k,i} w_{k,i}\\, f(\\epsilon(k,i) - \\mu)\\,,$$\n",
    "the band energy is defined as\n",
    "$$ E_b = \\sum_{k,i} w_{k,i}\\, \\epsilon(k,i) f(\\epsilon(k,i) - \\mu)\\,,$$ \n",
    "where $i$ denotes the band, $k$ the k point, $w_{k,i}$ the weight of the k point, $\\epsilon(k,i)$ the eigenvalue for a given k point and band, $\\mu$ the chemical potential (which equals the Fermi energy at zero temperature), and $f$ the Fermi-Dirac distribution function (which truncates the sum at the chemical potential). "
   ]
  },
  {
   "cell_type": "code",
   "execution_count": 6,
   "metadata": {},
   "outputs": [],
   "source": [
    "# Function generating electron number from sum of eigenvalues\n",
    "def gen_ENUM(k_weights, array_eigs):\n",
    "    # input:\n",
    "    ## k_weights: weights of k-point summation (taken from QE output)\n",
    "    ## array_eigs: array[dim_bnd, dim_k] containing eigenvalues (\\epsilon_{i,k})\n",
    "    # output:\n",
    "    dim_bnd = len((array_eigs[: , 0]))\n",
    "    dim_k = len((array_eigs[0 , :]))\n",
    "    ra_fd = fd_function(array_eigs, eF=fermi_energy, t=temp)\n",
    "    enum = 0.0\n",
    "    for idx_bnd in range(dim_bnd):\n",
    "        for idx_k in range(dim_k):\n",
    "            # Sum the Gaussians over idx_band and idx_k\n",
    "            enum += k_weights[idx_k]*ra_fd[idx_bnd , :][idx_k]  \n",
    "    return enum"
   ]
  },
  {
   "cell_type": "code",
   "execution_count": 7,
   "metadata": {},
   "outputs": [],
   "source": [
    "# Function generating sum of eigenvalues = band energy\n",
    "def gen_EBAND(k_weights, array_eigs):\n",
    "    # input:\n",
    "    ## k_weights: weights of k-point summation (taken from QE output)\n",
    "    ## array_eigs: array[dim_bnd, dim_k] containing eigenvalues (\\epsilon_{i,k})\n",
    "    # output:\n",
    "    ## eband\n",
    "    dim_bnd = len((array_eigs[: , 0]))\n",
    "    dim_k = len((array_eigs[0 , :]))\n",
    "    ra_fd = fd_function(array_eigs, eF=fermi_energy, t=temp)\n",
    "    eband = 0.0\n",
    "    for idx_bnd in range(dim_bnd):\n",
    "        for idx_k in range(dim_k):\n",
    "            # Sum the Gaussians over idx_band and idx_k\n",
    "            eband += k_weights[idx_k]*array_eigs[idx_bnd , :][idx_k]*ra_fd[idx_bnd , :][idx_k]  \n",
    "    return eband"
   ]
  },
  {
   "cell_type": "markdown",
   "metadata": {},
   "source": [
    "Compute the reference values for the electron number and the band energy by directly summing over the eigenvalues.\n",
    "It turns out the value of the band energy obtained from QE below is not correct."
   ]
  },
  {
   "cell_type": "code",
   "execution_count": 31,
   "metadata": {},
   "outputs": [
    {
     "name": "stdout",
     "output_type": "stream",
     "text": [
      "SNAPSHOT 0\n",
      "Electron number: 768.3800699587922\n",
      "Band energy [eV]: 2598.726246188354\n",
      " \n",
      "SNAPSHOT 1\n",
      "Electron number: 768.0000014009643\n",
      "Band energy [eV]: 2598.579547828817\n"
     ]
    }
   ],
   "source": [
    "# Reference values of electron number and band energy\n",
    "## Snapshot 0\n",
    "enum_ref_00  = gen_ENUM(k_weights_qe_00, eigs_qe_00)\n",
    "eband_ref_00 = gen_EBAND(k_weights_qe_00, eigs_qe_00)\n",
    "print(\"SNAPSHOT 0\")\n",
    "print(\"Electron number:\", enum_ref_00)\n",
    "print(\"Band energy [eV]:\", eband_ref_00)\n",
    "print(\" \")\n",
    "\n",
    "## Snapshot 1 #Need to determine more accurate Fermi energy for snaphot2\n",
    "#fermi_energy = 7.7733618\n",
    "enum_ref_01  = gen_ENUM(k_weights_qe_01, eigs_qe_01)\n",
    "eband_ref_01 = gen_EBAND(k_weights_qe_01, eigs_qe_01)\n",
    "print(\"SNAPSHOT 1\")\n",
    "print(\"Electron number:\", enum_ref_01)\n",
    "print(\"Band energy [eV]:\", eband_ref_01)"
   ]
  },
  {
   "cell_type": "markdown",
   "metadata": {},
   "source": [
    "Alternatively, the electron number and band energy can be by aid of the density of states. This is useful, because, eventually, we will predict the local DOS/DOS from ML.\n",
    "\n",
    "In terms of the DOS, they are defined as \n",
    "\n",
    "$$N = \\int_{-\\infty}^{\\infty} d\\epsilon\\ D(\\epsilon)\\, f(\\epsilon)$$\n",
    "and\n",
    "$$E_b = \\int_{-\\infty}^{\\infty} d\\epsilon\\ D(\\epsilon)\\, f(\\epsilon)\\, \\epsilon\\,,$$\n",
    "\n",
    "\n",
    "where $\\epsilon$ denotes the energy as a continuous variable, $D(\\epsilon)$ the DOS, $f(\\epsilon)$ the Fermi-Dirac distribution function.\n",
    "\n",
    "The explicit defintion of the DOS is given as a sum of $\\delta$-functions over the spectrum of eigenvalues.\n",
    "$$ D(\\epsilon) = \\sum_i \\sum_k w_k\\, \\delta(\\epsilon-\\epsilon(i,k))$$\n",
    "\n",
    "Commonly (in particular, for the purposes of visualization), the $\\delta$-functions are represented by particular choice of functions (for example, Gaussians)\n",
    "$$\\delta(\\epsilon-\\epsilon_{ik}) = \\frac{1}{\\sqrt{\\pi\\sigma^2}}\\exp{\\left[-\\left(\\frac{\\epsilon-\\epsilon_{ik}}{\\sigma}\\right)^2\\right]}$$ \n",
    "where $\\sigma$ denotes the width."
   ]
  },
  {
   "cell_type": "code",
   "execution_count": null,
   "metadata": {},
   "outputs": [],
   "source": [
    "# Function generating DOS sum over eigenvalues\n",
    "def gen_DOS(k_weights, array_en, array_eigs, sigma):\n",
    "    # input:\n",
    "    ## k_weights: weights of k-point summation (taken from QE output)\n",
    "    ## array_en: energy grid [eV]\n",
    "    ## array_eigs: array[dim_bnd, dim_k] containing eigenvalues (\\epsilon_{i,k})\n",
    "    ## sigma: width of Gaussian [eV]\n",
    "    # output:\n",
    "    ## array_dos: ra_dos\n",
    "    ## array_dos_contr: ra_dos_ik (terms for each i,k)\n",
    "    dim_bnd = len((array_eigs[: , 0]))\n",
    "    dim_k = len((array_eigs[0 , :]))\n",
    "    ra_en = array_en #dos_qe[: , 0]       # energy grid (same as QE-DOS input/output) \n",
    "    ra_dos_ik = [[] for i in range(dim_bnd)]\n",
    "    ra_dos = np.zeros(len(array_en)) #create empty array\n",
    "    for idx_bnd in range(dim_bnd):\n",
    "        for idx_k in range(dim_k):\n",
    "            ra_dos_ik[idx_bnd].append(gaussian(ra_en, array_eigs[idx_bnd , :][idx_k], sigma))\n",
    "            # Sum the Gaussians over idx_band and idx_k\n",
    "            ra_dos += k_weights[idx_k]*ra_dos_ik[idx_bnd][idx_k]\n",
    "    return ra_dos #, ra_dos_ik"
   ]
  },
  {
   "cell_type": "code",
   "execution_count": null,
   "metadata": {},
   "outputs": [],
   "source": [
    "# Function generating electron number from DOS\n",
    "## Integrate DOS*FD to obtain band energy\n",
    "def gen_enumFromDOS(k_weights, array_en, array_eigs, sigma):\n",
    "    # input:\n",
    "    ## k_weights: weights of k-point summation (taken from QE output)\n",
    "    ## array_eigs: array[dim_bnd, dim_k] containing eigenvalues (\\epsilon_{i,k})\n",
    "    ## sigma: width of Gaussian [eV]\n",
    "    # output:\n",
    "    ## enum\n",
    "    ra_fd = fd_function(array_en, eF=fermi_energy, t=temp)\n",
    "    #ra_dos, ra_dos_ik = gen_DOS(k_weights_qe, array_en, eigs_qe, sigma)\n",
    "    ra_dos = gen_DOS(k_weights, array_en, array_eigs, sigma)\n",
    "    enum = sp.integrate.trapz(ra_dos*ra_fd, array_en)\n",
    "    return enum"
   ]
  },
  {
   "cell_type": "code",
   "execution_count": null,
   "metadata": {},
   "outputs": [],
   "source": [
    "# Function generating band energy from DOS\n",
    "## Integrate DOS*E*FD to obtain band energy\n",
    "def gen_ebandFromDOS(k_weights, array_en, array_eigs, sigma):\n",
    "    # input:\n",
    "    ## k_weights: weights of k-point summation (taken from QE output)\n",
    "    ## array_en: energy grid [eV]\n",
    "    ## array_eigs: array[dim_bnd, dim_k] containing eigenvalues (\\epsilon_{i,k})\n",
    "    ## sigma: width of Gaussian [eV]\n",
    "    # output:\n",
    "    ## eband [Ry]\n",
    "    ra_fd = fd_function(array_en, eF=fermi_energy, t=temp)\n",
    "    #ra_dos, ra_dos_ik = gen_DOS(k_weights_qe, array_en, eigs_qe, sigma)\n",
    "    ra_dos = gen_DOS(k_weights, array_en, array_eigs, sigma)\n",
    "    eband = sp.integrate.simps(ra_dos*array_en*ra_fd, array_en)\n",
    "    #Convert from eV to Ry for comparison with QE output\n",
    "    eband_Ry = eband/Ry2eV\n",
    "    return eband_Ry"
   ]
  },
  {
   "cell_type": "markdown",
   "metadata": {},
   "source": [
    "Compute total DOS and compare with QE output"
   ]
  },
  {
   "cell_type": "code",
   "execution_count": null,
   "metadata": {},
   "outputs": [],
   "source": [
    "# Generate data\n",
    "ra_en_00 = dos_qe_00[: , 0]\n",
    "ra_dos_00 = gen_DOS(k_weights_qe_00, ra_en_00, eigs_qe_00, sigma=sigma_qe*Ry2eV )\n",
    "        \n",
    "# Plot data        \n",
    "plt.figure(figsize=[8,6])\n",
    "ax = plt.subplot(1,1,1)\n",
    "ax.set_xlabel(r'E [eV]')\n",
    "ax.set_ylabel(r'D(E)')\n",
    "plt.rcParams.update({'font.size': 22})\n",
    "\n",
    "ax.plot(dos_qe_00[: , 0],  dos_qe_00[: , 1], linestyle='-',  linewidth=3, color='black', label='QE-DOS')\n",
    "ax.plot(dos_qe_00[: , 0] , ra_dos_00,        linestyle='--', linewidth=3, color='red',  label='computed')\n",
    "\n",
    "# Legend\n",
    "ax.legend(loc='upper right',frameon=False, bbox_to_anchor=(1.5, 1))\n",
    "plt.show()"
   ]
  },
  {
   "cell_type": "markdown",
   "metadata": {},
   "source": [
    "We recover the QE-DOS result by using the same parameters as in the input for computing the DOS.\n",
    "Now we can go ahead and investigate different energy grids and smearing values in order to improve upon the band energy and achieve better agreement with the band-energy output of QE."
   ]
  },
  {
   "cell_type": "markdown",
   "metadata": {},
   "source": [
    "**CAUTION: This is not correct. The direct sum over eigenvalues (see analysis above) does not yield the same value for the band energy.** \n",
    "The QE output of snapshot 0 is given at  ```blake.sandia.gov:/home/acangi/q-e_calcs/Al/datasets/vasp_econ_snapshots/298K/2.699g/170726180545.0/100Ry_k333```. \n",
    "QE prints the one-electron energy in the standard output, together with all the other energy contributions, e.g., \n",
    "```\n",
    "The total energy is the sum of the following terms:                                                  \n",
    "\n",
    "\n",
    "     one-electron contribution =     737.82754675 Ry\n",
    "     hartree contribution      =       4.77073244 Ry\n",
    "     xc contribution           =    -554.09988814 Ry\n",
    "     ewald contribution        =   -1375.56724973 Ry\n",
    "     smearing contrib. (-TS)   =      -0.02019845 Ry\n",
    "```\n",
    "However, what QE prints as the \"one-electron contribution\" is not the sum of the eigenvalues, but instead (see source code ```~/PW/src/electrons.f90``` lines 638-640)\n",
    "\n",
    "$$\\text{one-electron contribution} = \\sum_i \\epsilon_i - (E_h + E_{xc})$$\n",
    "\n",
    "In order to correctly compare the band energy obtained from integrating the DOS with the QE output we need to add the hartree and exchange-correlation contributions to the one-electron contribution. \n",
    "\n",
    "**However, this does not agree with the reference value of the band energy we obtain above by explicitly summing over the eigenvalues (which we know is the correct band energy.)**"
   ]
  },
  {
   "cell_type": "code",
   "execution_count": null,
   "metadata": {},
   "outputs": [],
   "source": [
    "eband_qe = 737.82754675+4.77073244-554.09988814\n",
    "print(\"Band energy from QE output [Ry]:\", eband_qe)\n",
    "print(\"Reference value of band energy (correct) [Ry]:\", eband_ref_00/Ry2eV)"
   ]
  },
  {
   "cell_type": "markdown",
   "metadata": {},
   "source": [
    "Below we analyze the behavior of the predicted electron number and band energy with respect to the choice of energy bin and smearing. One important question to answer is whether we can recover an accurate band energy (error < 10 meV) for a relatively smooth DOS which will be more suited for ML."
   ]
  },
  {
   "cell_type": "markdown",
   "metadata": {},
   "source": [
    "## Snapshot 0:"
   ]
  },
  {
   "cell_type": "code",
   "execution_count": null,
   "metadata": {},
   "outputs": [],
   "source": [
    "# Define energy bin\n",
    "#ewidth=dos_qe[: , 0][1]-dos_qe[: , 0][0]\n",
    "ewidth = (dos_qe_00[: , 0][1]-dos_qe_00[: , 0][0])*0.5\n",
    "print(ewidth)\n",
    "# Define smearing\n",
    "ra_sigma_00 = np.linspace(0.5*ewidth, 5*ewidth, 11)\n",
    "ra_enum_00 = np.zeros(len(ra_sigma_00))\n",
    "ra_eband_00 = np.zeros(len(ra_sigma_00))\n",
    "ra_en = np.linspace(dos_qe_00[0, 0], dos_qe_00[-1, 0], int((dos_qe_00[-1, 0]-dos_qe_00[0, 0])/ewidth)) \n",
    "for i in range(len(ra_sigma_00)):\n",
    "    print(\"i:\", i)\n",
    "    # Generate electron number \n",
    "    ra_enum_00[i] = gen_enumFromDOS(k_weights_qe_00, ra_en, eigs_qe_00, sigma=ra_sigma_00[i])\n",
    "    # Generate band energy\n",
    "    ra_eband_00[i] = gen_ebandFromDOS(k_weights_qe_00, ra_en , eigs_qe_00, sigma=ra_sigma_00[i])\n",
    "print(ra_en[1]-ra_en[0])\n",
    "print(ra_enum_00)\n",
    "print(ra_eband_00)"
   ]
  },
  {
   "cell_type": "code",
   "execution_count": null,
   "metadata": {},
   "outputs": [],
   "source": [
    "# Plot data        \n",
    "plt.figure(figsize=[8,6])\n",
    "ax = plt.subplot(1,1,1)\n",
    "ax.set_xlabel(r'Width of smearing [Ry]')\n",
    "#ax.set_ylabel(r'D(E)')\n",
    "plt.rcParams.update({'font.size': 22})\n",
    "\n",
    "#ax.set_ylim(767.95, 768.05)\n",
    "\n",
    "ax.hlines(enum_ref_00, ra_sigma_00[0], ra_sigma_00[-1], linewidth=3)\n",
    "ax.plot(ra_sigma_00,  ra_enum_00, linestyle='-',  linewidth=3, color='blue', label='Electron number')\n",
    "\n",
    "# Legend\n",
    "ax.legend(loc='upper right',frameon=False, bbox_to_anchor=(1.5, 1))\n",
    "plt.show()"
   ]
  },
  {
   "cell_type": "code",
   "execution_count": null,
   "metadata": {},
   "outputs": [],
   "source": [
    "# Plot data        \n",
    "plt.figure(figsize=[8,6])\n",
    "ax = plt.subplot(1,1,1)\n",
    "ax.set_xlabel(r'Width of smearing [Ry]')\n",
    "#ax.set_ylabel(r'D(E)')\n",
    "plt.rcParams.update({'font.size': 22})\n",
    "\n",
    "\n",
    "ax.hlines(eband_ref_00/Ry2eV, ra_sigma_00[0], ra_sigma_00[-1], linewidth=3)\n",
    "ax.scatter(ra_sigma_00,  ra_eband_00, linestyle='-',  linewidth=3, color='red', label='Band energy')\n",
    "\n",
    "# Legend\n",
    "ax.legend(loc='upper right',frameon=False, bbox_to_anchor=(1.5, 1))\n",
    "plt.show()\n",
    "print(\"Error in band energy [Ry/atom]\", np.min(abs(ra_eband_00-eband_ref_00/Ry2eV))/256)"
   ]
  },
  {
   "cell_type": "markdown",
   "metadata": {},
   "source": [
    "Generate the corresponding DOS"
   ]
  },
  {
   "cell_type": "code",
   "execution_count": null,
   "metadata": {},
   "outputs": [],
   "source": [
    "ra_dos_00 = gen_DOS(k_weights_qe_00, ra_en, eigs_qe_00, sigma=ra_sigma_00[1] )"
   ]
  },
  {
   "cell_type": "code",
   "execution_count": null,
   "metadata": {},
   "outputs": [],
   "source": [
    "# Plot data        \n",
    "plt.figure(figsize=[8,6])\n",
    "ax = plt.subplot(1,1,1)\n",
    "ax.set_xlabel(r'E [eV]')\n",
    "ax.set_ylabel(r'D(E)')\n",
    "plt.rcParams.update({'font.size': 22})\n",
    "\n",
    "ax.plot(ra_en           , ra_dos_00,        linestyle='-',  linewidth=1, color='red',   label='computed (adjusted width)')\n",
    "ax.plot(dos_qe_00[: , 0], dos_qe_00[: , 1], linestyle='-',  linewidth=1, color='black', label='QE-DOS')\n",
    "\n",
    "# Legend\n",
    "ax.legend(loc='upper right',frameon=False, bbox_to_anchor=(2, 1))\n",
    "plt.show()"
   ]
  },
  {
   "cell_type": "markdown",
   "metadata": {},
   "source": [
    "## Snapshot 1:"
   ]
  },
  {
   "cell_type": "code",
   "execution_count": null,
   "metadata": {},
   "outputs": [],
   "source": [
    "# Define energy bin\n",
    "#ewidth=dos_qe[: , 0][1]-dos_qe[: , 0][0]\n",
    "ewidth = (dos_qe_01[: , 0][1]-dos_qe_01[: , 0][0])*0.5\n",
    "print(ewidth)\n",
    "# Define smearing\n",
    "ra_sigma_01 = np.linspace(0.5*ewidth, 5*ewidth, 11)\n",
    "ra_enum_01 = np.zeros(len(ra_sigma_01))\n",
    "ra_eband_01 = np.zeros(len(ra_sigma_01))\n",
    "ra_en_01 = np.linspace(dos_qe_01[0, 0], dos_qe_01[-1, 0], int((dos_qe_01[-1, 0]-dos_qe_01[0, 0])/ewidth)) \n",
    "for i in range(len(ra_sigma_01)):\n",
    "    print(\"i:\", i)\n",
    "    # Generate electron number \n",
    "    ra_enum_01[i] = gen_enumFromDOS(k_weights_qe_01, ra_en, eigs_qe_01, sigma=ra_sigma_01[i])\n",
    "    # Generate band energy\n",
    "    ra_eband_01[i] = gen_ebandFromDOS(k_weights_qe_01, ra_en_01 , eigs_qe_01, sigma=ra_sigma_01[i])\n",
    "print(ra_en_01[1]-ra_en_01[0])\n",
    "print(ra_enum_01)\n",
    "print(ra_eband_01)"
   ]
  },
  {
   "cell_type": "markdown",
   "metadata": {},
   "source": [
    "This illustrates the issue with Gaussian smearing. The smearing width differs between the different snapshots. This means we cannot choose a fixed smearing width and obtain high accuracy in the band energy throughout a priori (i.e. without knowing the true value of the band energy). However, this might be fine, since we need to choose the smearing width only for the generation of training data. It might be somewhat inconvenient, but for each snapshot in the training data we can find the corresponding smearing width which will yield a band energy up to a target accuracy."
   ]
  },
  {
   "cell_type": "markdown",
   "metadata": {},
   "source": [
    "# Scratchpad"
   ]
  },
  {
   "cell_type": "markdown",
   "metadata": {},
   "source": [
    "To do\n",
    "* Different representation of the $\\delta$ function, for example Marzari-Vanderbilt (MV)."
   ]
  },
  {
   "cell_type": "code",
   "execution_count": null,
   "metadata": {},
   "outputs": [],
   "source": [
    "# Define MV representation of delta function\n",
    "def MV(en, mu, sigma):\n",
    "    x = (mu-en)/sigma\n",
    "    result = 1.0/np.sqrt(np.pi)*(2.0-np.sqrt(2)*x)*np.exp(-1.0*(x-(1.0/np.sqrt(2)))**2)\n",
    "    return result"
   ]
  },
  {
   "cell_type": "code",
   "execution_count": null,
   "metadata": {},
   "outputs": [],
   "source": [
    "# Sanity check of smearing functions\n",
    "# Generate data\n",
    "ra_en = np.linspace(7.,9.,601)\n",
    "ra_gaussian = gaussian(ra_en, eF=fermi_energy, sigma=sigma_qe)\n",
    "ra_MV = MV(ra_en, mu=fermi_energy, sigma=sigma_qe*2)\n",
    "        \n",
    "# Plot data        \n",
    "plt.figure(figsize=[8,6])\n",
    "ax = plt.subplot(1,1,1)\n",
    "ax.set_xlabel(r'E [eV]')\n",
    "ax.set_ylabel(r'D(E)')\n",
    "plt.rcParams.update({'font.size': 22})\n",
    "\n",
    "ax.plot(ra_en, ra_MV, linestyle='-',  linewidth=3, color='red', label='MV')\n",
    "#ax.plot(ra_en, ra_gaussian, linestyle='-',  linewidth=3, color='blue', label='gaussian')\n",
    "\n",
    "# Legend\n",
    "ax.legend(loc='upper right',frameon=False, bbox_to_anchor=(1.5, 1))\n",
    "plt.show()"
   ]
  },
  {
   "cell_type": "code",
   "execution_count": null,
   "metadata": {},
   "outputs": [],
   "source": [
    "# Function generating DOS from eigenvalues\n",
    "def gen_DOS_ST(k_weights, array_en, array_eigs, sigma, smearing_type):\n",
    "    # input:\n",
    "    ## k_weights: weights of k-point summation (taken from QE output)\n",
    "    ## array_en: energy grid [eV]\n",
    "    ## array_eigs: array[dim_bnd, dim_k] containing eigenvalues (\\epsilon_{i,k})\n",
    "    ## sigma: width of Gaussian [eV]\n",
    "    # output:\n",
    "    ## array_dos: ra_dos\n",
    "    ## array_dos_contr: ra_dos_ik (terms for each i,k)\n",
    "    dim_bnd = len((array_eigs[: , 0]))\n",
    "    dim_k = len((array_eigs[0 , :]))\n",
    "    ra_en = array_en #dos_qe[: , 0]       # energy grid (same as QE-DOS input/output) \n",
    "    ra_dos_ik = [[] for i in range(dim_bnd)]\n",
    "    ra_dos = np.zeros(len(array_en)) #create empty array\n",
    "    for idx_bnd in range(dim_bnd):\n",
    "        for idx_k in range(dim_k):\n",
    "            if (smearing_type == 1):\n",
    "                smearing = gaussian(en=array_en, eF=array_eigs[idx_bnd , :][idx_k], sigma=sigma)\n",
    "            elif (smearing_type == 2):\n",
    "                smearing = MV(en=array_en, mu=array_eigs[idx_bnd , :][idx_k], sigma=sigma)\n",
    "            else:\n",
    "                print(\"Error, choose valid smearing function.\")\n",
    "            ra_dos_ik[idx_bnd].append(smearing)\n",
    "            # Sum the Gaussians over idx_band and idx_k\n",
    "            ra_dos += k_weights[idx_k]*ra_dos_ik[idx_bnd][idx_k]\n",
    "    return ra_dos #, ra_dos_ik"
   ]
  },
  {
   "cell_type": "code",
   "execution_count": null,
   "metadata": {},
   "outputs": [],
   "source": [
    "# Generate data\n",
    "ra_en = dos_qe[: , 0]\n",
    "ra_dos = gen_DOS_ST(k_weights_qe, ra_en, eigs_qe, sigma=sigma_qe*Ry2eV,smearing_type=2)\n",
    "\n",
    "# Plot data        \n",
    "plt.figure(figsize=[8,6])\n",
    "ax = plt.subplot(1,1,1)\n",
    "ax.set_xlabel(r'E [eV]')\n",
    "ax.set_ylabel(r'D(E)')\n",
    "plt.rcParams.update({'font.size': 22})\n",
    "\n",
    "ax.plot(dos_qe[: , 0],  dos_qe[: , 1], linestyle='-',  linewidth=3, color='black', label='QE-DOS')\n",
    "ax.plot(dos_qe[: , 0] , ra_dos,        linestyle='--', linewidth=3, color='red',  label='computed')\n",
    "\n",
    "# Legend\n",
    "ax.legend(loc='upper right',frameon=False, bbox_to_anchor=(1.5, 1))\n",
    "plt.show()"
   ]
  },
  {
   "cell_type": "code",
   "execution_count": null,
   "metadata": {},
   "outputs": [],
   "source": [
    "# Function generating band energy from DOS\n",
    "## Integrate DOS*E*FD to obtain band energy\n",
    "def gen_eband_ST(k_weights, array_en, array_eigs, sigma, smearing_type):\n",
    "    # input:\n",
    "    ## k_weights: weights of k-point summation (taken from QE output)\n",
    "    ## array_en: energy grid [eV]\n",
    "    ## array_eigs: array[dim_bnd, dim_k] containing eigenvalues (\\epsilon_{i,k})\n",
    "    ## sigma: width of Gaussian [eV]\n",
    "    # output:\n",
    "    ## array_dos: ra_dos\n",
    "    ## array_dos_contr: ra_dos_ik (terms for each i,k)\n",
    "    ra_fd = fd_function(array_en, eF=fermi_energy, t=temp)\n",
    "    #ra_dos, ra_dos_ik = gen_DOS(k_weights_qe, array_en, eigs_qe, sigma)\n",
    "    ra_dos = gen_DOS_ST(k_weights_qe, array_en, eigs_qe, sigma, smearing_type)\n",
    "    eband = sp.integrate.trapz(ra_dos*array_en*ra_fd, array_en)\n",
    "    #Convert from eV to Ry for comparison with QE output\n",
    "    eband_Ry = eband/Ry2eV\n",
    "    return eband_Ry"
   ]
  },
  {
   "cell_type": "code",
   "execution_count": null,
   "metadata": {},
   "outputs": [],
   "source": [
    "# Generate band energy\n",
    "emin = dos_qe[: , 0][0]-1\n",
    "emax = dos_qe[: , 0][-1]+1\n",
    "ra_en = np.linspace(emin, emax, int(len(dos_qe[: , 0])))\n",
    "sigma_mod = sigma_qe*30.56825\n",
    "eband = gen_eband_ST(k_weights_qe, ra_en , eigs_qe, sigma=sigma_mod, smearing_type=2)\n",
    "print(\"smearing width {0} eV ({1} Ry)\".format(sigma_mod, sigma_mod/Ry2eV))\n",
    "print(\"Band energy {0} Ry)\".format(eband))"
   ]
  },
  {
   "cell_type": "code",
   "execution_count": null,
   "metadata": {},
   "outputs": [],
   "source": [
    "# Error in band energy (due to discretization of the energy grid in DOS calculation and choice of smearing width)\n",
    "eband_error = eband-eband_qe\n",
    "print(\"Error in Rydberg\", eband_error)\n",
    "print(\"Error in eV\", eband_error*Ry2eV)"
   ]
  },
  {
   "cell_type": "code",
   "execution_count": null,
   "metadata": {},
   "outputs": [],
   "source": [
    "# Generate data\n",
    "ra_dos = gen_DOS_ST(k_weights_qe, ra_en, eigs_qe, sigma=sigma_mod, smearing_type=2)\n",
    "        \n",
    "# Plot data        \n",
    "plt.figure(figsize=[8,6])\n",
    "ax = plt.subplot(1,1,1)\n",
    "ax.set_xlabel(r'E [eV]')\n",
    "ax.set_ylabel(r'D(E)')\n",
    "plt.rcParams.update({'font.size': 22})\n",
    "\n",
    "ax.plot(dos_qe[: , 0],  dos_qe[: , 1], linestyle='-',  linewidth=3, color='black', label='QE-DOS')\n",
    "ax.plot(dos_qe[: , 0] , ra_dos,        linestyle='-',  linewidth=3, color='red',  label='computed (adjusted width)')\n",
    "\n",
    "# Legend\n",
    "ax.legend(loc='upper right',frameon=False, bbox_to_anchor=(2, 1))\n",
    "plt.show()"
   ]
  },
  {
   "cell_type": "code",
   "execution_count": null,
   "metadata": {},
   "outputs": [],
   "source": []
  }
 ],
 "metadata": {
  "kernelspec": {
   "display_name": "Python 3",
   "language": "python",
   "name": "python3"
  },
  "language_info": {
   "codemirror_mode": {
    "name": "ipython",
    "version": 3
   },
   "file_extension": ".py",
   "mimetype": "text/x-python",
   "name": "python",
   "nbconvert_exporter": "python",
   "pygments_lexer": "ipython3",
   "version": "3.7.4"
  }
 },
 "nbformat": 4,
 "nbformat_minor": 2
}
