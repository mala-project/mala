{
 "cells": [
  {
   "cell_type": "markdown",
   "metadata": {},
   "source": [
    "Attila Cangi, 14.02.2020 \\\n",
    "Normand Modine, 01.04.2020"
   ]
  },
  {
   "cell_type": "code",
   "execution_count": 1,
   "metadata": {},
   "outputs": [],
   "source": [
    "import math\n",
    "import numpy as np\n",
    "import scipy as sp\n",
    "from scipy import integrate\n",
    "from scipy import interpolate\n",
    "from scipy.optimize import minimize\n",
    "from scipy.optimize import root_scalar\n",
    "from scipy.optimize import bisect\n",
    "from scipy.optimize import toms748\n",
    "from scipy.special import spence\n",
    "import mpmath as mp\n",
    "import matplotlib.pyplot as plt\n",
    "from ase import Atoms\n",
    "from ase.io import read\n",
    "from functools import partial"
   ]
  },
  {
   "cell_type": "markdown",
   "metadata": {},
   "source": [
    "Parameters"
   ]
  },
  {
   "cell_type": "code",
   "execution_count": 2,
   "metadata": {},
   "outputs": [],
   "source": [
    "# Temperature\n",
    "temp = 298\n",
    "\n",
    "# Boltzmann's constant\n",
    "kB = 8.617333262145e-5\n",
    "\n",
    "# Conversion factor from Rydberg to eV\n",
    "Ry2eV = 13.6056980659\n",
    "\n",
    "# Conversion factor from Bohr to Angstroms\n",
    "Br2AA = 0.52917721\n",
    "\n",
    "# Gaussian smearing in QE-DOS calculations\n",
    "# taken from QE-DOS input file\n",
    "sigma_qe = 0.032\n",
    "\n",
    "# Read and analyze QE calculated LDOS for snapshot 2\n",
    "read_QE_LDOS = False\n",
    "\n",
    "# Read and analyze Machine Learned LDOS for snapshot 2\n",
    "read_ML_LDOS = False"
   ]
  },
  {
   "cell_type": "markdown",
   "metadata": {},
   "source": [
    "Define a structure to hold the relevant results of each Density-Functional-Theory calculation"
   ]
  },
  {
   "cell_type": "code",
   "execution_count": 3,
   "metadata": {},
   "outputs": [],
   "source": [
    "# Class that encapsulates the relevant results of a DFT calculation read from a file\n",
    "class DFT_results:\n",
    "    def __init__(self, out_file):\n",
    "        # input:\n",
    "        ## out_file: path to the output file from a DFT run using a code that ase.io.read can read\n",
    "        # attributes (you probably should consider all of these to be read only):\n",
    "        ## out_file: the DFT output file used to construct the object\n",
    "        ## eigs: the Kohn-Sham eigenvalues\n",
    "        ### eigs rows: band index, row i: eigs[i , :]\n",
    "        ### eigs cols: k points,   col j: eigs[: , j]\n",
    "        ## kpoints: the kpoints used in the calculation\n",
    "        ## kweights: the kweights for the kpoints used in the calculation\n",
    "        ## fermi_energy: the Fermi energy printed in the output file\n",
    "        ### note that the Fermi energy is not printed to enought digits to give an accurate number of electrons\n",
    "        \n",
    "        atoms = read(filename=out_file)\n",
    "        self.out_file = out_file\n",
    "        self.eigs = np.transpose(atoms.get_calculator().band_structure().energies[0,:,:])\n",
    "        self.kpoints = atoms.get_calculator().get_ibz_k_points()\n",
    "        self.kweights = atoms.get_calculator().get_k_point_weights()\n",
    "        self.fermi_energy = atoms.get_calculator().get_fermi_level()\n",
    "        self.volume = atoms.get_volume()\n",
    "        # I'd rather not do the following \"grep\" type search, but I can't find a ASE command to get n_electrons\n",
    "        with open(out_file) as out:\n",
    "            for line in out:\n",
    "                if \"number of electrons       =\" in line:\n",
    "                    self.n_electrons = np.float64(line.split('=')[1])\n",
    "                    break"
   ]
  },
  {
   "cell_type": "markdown",
   "metadata": {},
   "source": [
    "Define a structure to hold the results of a Density-of-State calculation"
   ]
  },
  {
   "cell_type": "markdown",
   "metadata": {},
   "source": [
    "Compute the DOS on a grid of E values using its naive definition\n",
    "$$ D(E) = \\sum_i \\sum_k w_k\\, \\delta(E-\\epsilon_{ik})$$\n",
    "where $i$ labels the band and $k$ the k point.  The $\\delta$-functions appearing in this definition are represented on a grid by the function parameter delta_f."
   ]
  },
  {
   "cell_type": "code",
   "execution_count": 4,
   "metadata": {},
   "outputs": [],
   "source": [
    "# Class that encapsulates the results of a Density-of-States calculation\n",
    "class DOS:\n",
    "    def __init__(self, dft, e_grid, dos):\n",
    "        # You probably should not call this constructer directly.\n",
    "        # Instead you should call one of the factory methods:\n",
    "        ## DOS.from_calculation(dft, e_grid, delta_f)\n",
    "        ## DOS.from_dos_file(dft, file)\n",
    "        ## DOS.from_ldos_data(dft,e_grid,ldos_data)\n",
    "        # attributes (you probably should consider all of these to be read only):\n",
    "        ## dft: the DFT_results instance used to generate the DOS\n",
    "        ## e_grid: the array of energy values at which the DOS is evauated\n",
    "        ## dos: the DOS evaluated at the energies in e_grid\n",
    "        \n",
    "        self.dft = dft\n",
    "        self.e_grid = e_grid\n",
    "        self.dos = dos\n",
    "            \n",
    "    @classmethod\n",
    "    def from_calculation(cls, dft, e_grid, delta_f):\n",
    "        # input:\n",
    "        ## dft: a DFT_results instance\n",
    "        ## e_grid: energy grid [eV] on which to evaluate the DOS\n",
    "        ## delta_f: a function that represents a delta function on a grid\n",
    "        \n",
    "        dos_per_band = delta_f(e_grid,dft.eigs)\n",
    "        dos_per_band = dft.kweights[np.newaxis,:,np.newaxis]*dos_per_band\n",
    "        dos = np.sum(dos_per_band,axis=(0,1))\n",
    "        return cls(dft, e_grid, dos)\n",
    "    \n",
    "    @classmethod\n",
    "    def from_dos_file(cls, dft, file):\n",
    "        # input:\n",
    "        ## dft: a DFT_results instance\n",
    "        ## file: a file containing an energy grid and a dos as columns\n",
    "        ##       The first line of this file is considered a comment and skipped.\n",
    "        \n",
    "        data = np.loadtxt(file, skiprows=1)\n",
    "        e_grid = data[:,0]\n",
    "        dos = data[:,1]\n",
    "        return cls(dft, e_grid, dos)\n",
    "    \n",
    "    @classmethod\n",
    "    def from_ldos_data(cls, dft, e_grid, ldos_data):\n",
    "        # input:\n",
    "        ## dft: a DFT_results instance\n",
    "        ## e_grid: energy grid [eV] on which the LDOS has been evaluated\n",
    "        ## ldos_data: a 4-dimensional Numpy array containing LDOS results\n",
    "        \n",
    "        if ldos_data.shape[3] != e_grid.shape[0]:\n",
    "            raise ValueError('Size of e_grid does not match length of 4th axis of ldos_data')\n",
    "        cell_volume = dft.volume/(ldos_data.shape[0]*ldos_data.shape[1]*ldos_data.shape[2]*Br2AA**3)\n",
    "        dos = np.sum(ldos_data, axis=(0,1,2))*cell_volume\n",
    "        return cls(dft, e_grid, dos)   "
   ]
  },
  {
   "cell_type": "code",
   "execution_count": 5,
   "metadata": {},
   "outputs": [],
   "source": [
    "# Class that encapsulates the results of a Local-Density-of-States calculation\n",
    "class LDOS:\n",
    "    def __init__(self, dft, e_grid, file):\n",
    "        # input:\n",
    "        ## dft: a DFT_results instance\n",
    "        ## e_grid: energy grid [eV] on which the LDOS has been evaluated\n",
    "        ## file: a file containing LDOS results in numpy format\n",
    "        # attributes (you probably should consider all of these to be read only):\n",
    "        ## dft: the DFT_results instance used to generate the DOS\n",
    "        ## e_grid: the array of energy values at which the DOS is evauated\n",
    "        ## ldos: the LDOS read from the file\n",
    "        ## dos: the DOS evaluated from the LDOS\n",
    "        \n",
    "        self.dft = dft\n",
    "        self.e_grid = e_grid\n",
    "        self.ldos = np.load(file)\n",
    "        self.ldos = self.ldos / Ry2eV  # Quantum Espresso calculates LDOS per Ry.  We use per eV units.\n",
    "        self.cell_volume = dft.volume/(self.ldos.shape[0]*self.ldos.shape[1]*self.ldos.shape[2]*Br2AA**3)\n",
    "        self.dos = DOS.from_ldos_data(dft,e_grid,self.ldos)\n",
    "        self.e_fermi = dos_2_efermi(self.dos)\n",
    "        self.eband = dos_2_eband(self.dos, e_fermi = self.e_fermi)\n",
    "        dw = get_density_weights(self.e_grid, self.e_fermi, temp)\n",
    "        self.density = np.sum(self.ldos*dw[np.newaxis,np.newaxis,np.newaxis,:], axis=(3))"
   ]
  },
  {
   "cell_type": "raw",
   "metadata": {},
   "source": [
    "Load results of DFT runs snapshots 0 and 1 using various k-point grids"
   ]
  },
  {
   "cell_type": "code",
   "execution_count": 6,
   "metadata": {},
   "outputs": [],
   "source": [
    "dft_0_444 = DFT_results('snap_0/slurm-1006575.out')\n",
    "dft_0_555 = DFT_results('snap_0_555/slurm-1001448.out')\n",
    "dft_0_666 = DFT_results('snap_0_666/200327132835.out')\n",
    "dft_0_888 = DFT_results('snap_0_888/200409131941.out')\n",
    "dft_1_444 = DFT_results('snap_1/slurm-1006846.out')\n",
    "dft_1_888 = DFT_results('snap_1_888/200409131805.out')\n",
    "dft_2_888 = DFT_results('snap_2_888/200413195430.out')\n",
    "\n",
    "eigs_qe = dft_0_888.eigs\n",
    "kpoints_qe = dft_0_888.kpoints\n",
    "k_weights_qe = dft_0_888.kweights\n",
    "fermi_energy = dft_0_888.fermi_energy\n",
    "\n",
    "eigs_qe_01 = dft_1_444.eigs\n",
    "k_weights_qe_01 = dft_1_444.kweights"
   ]
  },
  {
   "cell_type": "raw",
   "metadata": {},
   "source": [
    "Load some DOS values calculated by QE's postprocessor for comparison"
   ]
  },
  {
   "cell_type": "markdown",
   "metadata": {},
   "source": [
    "Define functions\n",
    "\n",
    "The Fermi-Dirac distribution function is needed to evaluate the occupations of the Kohn-Sham states as a function of energy"
   ]
  },
  {
   "cell_type": "code",
   "execution_count": 7,
   "metadata": {},
   "outputs": [],
   "source": [
    "dos_qe_0_888_g = DOS.from_dos_file(dft_0_888, 'snap_0_888/Al.dos_g')\n",
    "dos_qe_0_888_2g = DOS.from_dos_file(dft_0_888, 'snap_0_888/Al.dos_2g')\n",
    "dos_qe_1_888_2g = DOS.from_dos_file(dft_1_888, 'snap_1_888/Al.dos_2g')\n",
    "dos_qe_2_888_2g = DOS.from_dos_file(dft_2_888, 'snap_2_888/Al.dos_2g')"
   ]
  },
  {
   "cell_type": "code",
   "execution_count": 8,
   "metadata": {},
   "outputs": [],
   "source": [
    "# Fermi-Dirac distribution function\n",
    "def fd_function(energies, e_fermi, temperature):                                                                                                 \n",
    "    return 1.0 / (1.0 + np.exp((energies - e_fermi) / (kB * temperature)))"
   ]
  },
  {
   "cell_type": "markdown",
   "metadata": {},
   "source": [
    "A Gaussian is one possible representation of the $\\delta$-functions occuring in DOS definition\n",
    "$$\\delta(\\epsilon-\\epsilon_{ik}) = \\frac{1}{\\sqrt{\\pi\\sigma^2}}\\exp{\\left[-\\left(\\frac{\\epsilon-\\epsilon_{ik}}{\\sigma}\\right)^2\\right]}$$ \n",
    "with a width $\\sigma$."
   ]
  },
  {
   "cell_type": "code",
   "execution_count": 9,
   "metadata": {},
   "outputs": [],
   "source": [
    "# Define the integral of the Fermi Function\n",
    "## Note that this could be written as an array operation in Numpy using ln(exp(2*cosh(x/2))),\n",
    "## but I am using the mpmath polylog() function for consistency and to avoid over/underflow\n",
    "def fermi_integral_0(energies, e_fermi, temperature):\n",
    "    xa = (energies - e_fermi) / (kB * temperature)\n",
    "    results = np.array([])\n",
    "    for x in xa:\n",
    "        results = np.append(results, np.float64(kB * temperature * (x + mp.polylog(1,-mp.exp(x)))))\n",
    "    return results"
   ]
  },
  {
   "cell_type": "code",
   "execution_count": 10,
   "metadata": {},
   "outputs": [],
   "source": [
    "# Define the integral of the Fermi Function times the energy (relative to the Fermi energy)\n",
    "## Note that this could be written as an array operation in Numpy using ln(exp(2*cosh(x/2))) and np.spence()\n",
    "## but I am using the mpmath polylog() function for consistency and to avoid over/underflow\n",
    "def fermi_integral_1(energies, e_fermi, temperature):\n",
    "    xa = (energies - e_fermi) / (kB * temperature)\n",
    "    results = np.array([])\n",
    "    for x in xa:\n",
    "        results = np.append(results, np.float64((kB * temperature)**2 *\n",
    "                            (x**2/2.0 + x*mp.polylog(1,-mp.exp(x)) - mp.polylog(2,-mp.exp(x))) ))\n",
    "    return results"
   ]
  },
  {
   "cell_type": "code",
   "execution_count": 11,
   "metadata": {},
   "outputs": [],
   "source": [
    "# Define the integral of the Fermi Function times the energy (relative to the Fermi energy) squared\n",
    "## As far as I can tell, there is no polylog(3,x) function for Numpy so I am using mpmath\n",
    "## This also helps avoid over/underflow.\n",
    "def fermi_integral_2(energies, e_fermi, temperature):\n",
    "    xa = (energies - e_fermi) / (kB * temperature)\n",
    "    results = np.array([])\n",
    "    for x in xa:\n",
    "        results = np.append(results, np.float64((kB * temperature)**3 *\n",
    "                                                ( x**3/3.0 + x**2 * mp.polylog(1,-mp.exp(x))\n",
    "                                                  - 2.0*x*mp.polylog(2,-mp.exp(x))\n",
    "                                                  + 2.0*mp.polylog(3,-mp.exp(x)) ) ))\n",
    "    return results"
   ]
  },
  {
   "cell_type": "code",
   "execution_count": 12,
   "metadata": {},
   "outputs": [
    {
     "name": "stdout",
     "output_type": "stream",
     "text": [
      "0.1696824228988496\n",
      "0.16968242289884924\n",
      "3.608224830031759e-16\n",
      "-0.013419715723285694\n",
      "-0.01341971572328568\n",
      "-1.3877787807814457e-17\n",
      "0.0016322822031528137\n",
      "0.0016322822031528126\n",
      "1.0842021724855044e-18\n"
     ]
    }
   ],
   "source": [
    "#  Test the Fermi integral functions against quadrature\n",
    "energies = np.array([6.83,7.11])\n",
    "e_fermi = 7.0\n",
    "fi_0 = fermi_integral_0(energies, e_fermi, temp)\n",
    "aint_0 = fi_0[1] - fi_0[0]\n",
    "qint_0, abserr = sp.integrate.quad(\n",
    "        lambda e: fd_function(e, e_fermi, temp),\n",
    "        energies[0],energies[-1])\n",
    "print(aint_0)\n",
    "print(qint_0)\n",
    "print(aint_0 - qint_0)\n",
    "fi_1 = fermi_integral_1(energies, e_fermi, temp)\n",
    "aint_1 = fi_1[1] - fi_1[0]\n",
    "qint_1, abserr = sp.integrate.quad(\n",
    "        lambda e: (e - e_fermi)*fd_function(e, e_fermi, temp),\n",
    "        energies[0],energies[-1])\n",
    "print(aint_1)\n",
    "print(qint_1)\n",
    "print(aint_1 - qint_1)\n",
    "fi_2 = fermi_integral_2(energies, e_fermi, temp)\n",
    "aint_2 = fi_2[1] - fi_2[0]\n",
    "qint_2, abserr = sp.integrate.quad(\n",
    "        lambda e: (e - e_fermi)**2*fd_function(e, e_fermi, temp),\n",
    "        energies[0],energies[-1])\n",
    "print(aint_2)\n",
    "print(qint_2)\n",
    "print(aint_2 - qint_2)"
   ]
  },
  {
   "cell_type": "code",
   "execution_count": 13,
   "metadata": {},
   "outputs": [],
   "source": [
    "# Calculate weights that will compute the analytic integral of the Fermi function\n",
    "#   times an arbitrary linearly interpolated function\n",
    "def get_density_weights(energies, e_fermi, temperature):\n",
    "    fi_0 = fermi_integral_0(energies, e_fermi, temperature)\n",
    "    fi_0 = fi_0[1:] - fi_0[:-1]\n",
    "    fi_1 = fermi_integral_1(energies, e_fermi, temperature)\n",
    "    fi_1 = fi_1[1:] - fi_1[:-1]\n",
    "    weights = np.zeros(energies.size)\n",
    "    delta_e = energies[1:] - energies[:-1]\n",
    "    weights[1:] = weights[1:] + fi_1/delta_e\n",
    "    weights[1:] = weights[1:] + fi_0 * (1.0 + (e_fermi - energies[1:])/delta_e)\n",
    "    weights[:-1] = weights[:-1] - fi_1/delta_e\n",
    "    weights[:-1] = weights[:-1] + fi_0 * (1.0 - (e_fermi - energies[:-1])/delta_e)\n",
    "    return weights"
   ]
  },
  {
   "cell_type": "code",
   "execution_count": 14,
   "metadata": {},
   "outputs": [],
   "source": [
    "# Calculate weights that will compute the analytic integral of the Fermi function\n",
    "# times the energy times an arbitrary linearly interpolated function\n",
    "def get_energy_weights(energies, e_fermi, temperature):\n",
    "    fi_1 = fermi_integral_1(energies, e_fermi, temperature)\n",
    "    fi_1 = fi_1[1:] - fi_1[:-1]\n",
    "    fi_2 = fermi_integral_2(energies, e_fermi, temperature)\n",
    "    fi_2 = fi_2[1:] - fi_2[:-1]\n",
    "    weights = np.zeros(energies.size)\n",
    "    delta_e = energies[1:] - energies[:-1]\n",
    "    weights[1:] = weights[1:] + fi_2/delta_e\n",
    "    weights[1:] = weights[1:] + fi_1 * (1.0 + (e_fermi - energies[1:])/delta_e)\n",
    "    weights[:-1] = weights[:-1] - fi_2/delta_e\n",
    "    weights[:-1] = weights[:-1] + fi_1 * (1.0 - (e_fermi - energies[:-1])/delta_e)\n",
    "    weights = weights + e_fermi*get_density_weights(energies, e_fermi, temperature)\n",
    "    return weights"
   ]
  },
  {
   "cell_type": "code",
   "execution_count": 15,
   "metadata": {},
   "outputs": [],
   "source": [
    "# Calculate the analytic integral of the Fermi function times the linearly interpolated dos\n",
    "def analytic_enum(energies, dos, e_fermi, temperature):\n",
    "    return np.sum(dos*get_density_weights(energies, e_fermi, temperature))"
   ]
  },
  {
   "cell_type": "code",
   "execution_count": 16,
   "metadata": {},
   "outputs": [],
   "source": [
    "# Calculate the analytic integral of the Fermi function times the linearly interpolated dos\n",
    "def analytic_enum2(energies, dos, e_fermi, temperature):\n",
    "    fi_0 = fermi_integral_0(energies, e_fermi, temperature)\n",
    "    fi_1 = fermi_integral_1(energies, e_fermi, temperature)\n",
    "    delta_e = energies[1:] - energies[:-1]\n",
    "    delta_dos = dos[1:] - dos[:-1]\n",
    "    slope = delta_dos / delta_e\n",
    "    fermi_intercept = (energies[1:]*dos[:-1] - energies[:-1]*dos[1:])/delta_e + slope*e_fermi\n",
    "    return np.sum((fi_0[1:] - fi_0[:-1])*fermi_intercept + (fi_1[1:] - fi_1[:-1])*slope)"
   ]
  },
  {
   "cell_type": "code",
   "execution_count": 17,
   "metadata": {},
   "outputs": [],
   "source": [
    "# Calculate the analytic integral of the Fermi function times the linearly interpolated dos times the energy\n",
    "def analytic_eband(energies, dos, e_fermi, temperature):\n",
    "    return np.sum(dos*get_energy_weights(energies, e_fermi, temperature))"
   ]
  },
  {
   "cell_type": "code",
   "execution_count": 18,
   "metadata": {},
   "outputs": [],
   "source": [
    "# Calculate the analytic integral of the Fermi function times the linearly interpolated dos times the energy\n",
    "def analytic_eband2(energies, dos, e_fermi, temperature):\n",
    "    fi_0 = fermi_integral_0(energies, e_fermi, temperature)\n",
    "    fi_1 = fermi_integral_1(energies, e_fermi, temperature)\n",
    "    fi_2 = fermi_integral_2(energies, e_fermi, temperature)\n",
    "    delta_e = energies[1:] - energies[:-1]\n",
    "    delta_dos = dos[1:] - dos[:-1]\n",
    "    slope = delta_dos / delta_e\n",
    "    fermi_intercept = (energies[1:]*dos[:-1] - energies[:-1]*dos[1:])/delta_e + slope*e_fermi\n",
    "    return np.sum((fi_0[1:] - fi_0[:-1])*fermi_intercept*e_fermi\n",
    "                + (fi_1[1:] - fi_1[:-1])*(fermi_intercept + slope*e_fermi)\n",
    "                + (fi_2[1:] - fi_2[:-1])*slope)"
   ]
  },
  {
   "cell_type": "code",
   "execution_count": 19,
   "metadata": {},
   "outputs": [],
   "source": [
    "# Define Gaussian\n",
    "## Note: Gaussian without factor of 1/sqrt(2)\n",
    "def gaussian(e_grid, centers, sigma):\n",
    "    result = 1.0/np.sqrt(np.pi*sigma**2)*np.exp(-1.0*((e_grid[np.newaxis]-centers[...,np.newaxis])/sigma)**2)\n",
    "    return result"
   ]
  },
  {
   "cell_type": "code",
   "execution_count": 20,
   "metadata": {},
   "outputs": [],
   "source": [
    "# Define a discretized delta function that maintains 0th and 1st moments\n",
    "def delta_M1(e_grid, centers):\n",
    "    de = e_grid[np.newaxis]-centers[...,np.newaxis]\n",
    "    de_above = np.min(de,axis=-1,initial=np.max(de),where=np.greater(de,0.0))\n",
    "    de_below = np.max(de,axis=-1,initial=np.min(de),where=np.less_equal(de,0.0))\n",
    "    e_spacing = de_above - de_below\n",
    "    result = 1.0 - np.abs(de)/e_spacing[...,np.newaxis]\n",
    "    result = result*np.greater_equal(result,0.0)*np.less_equal(result,1.0)\n",
    "    result = result/e_spacing[...,np.newaxis]\n",
    "    return result"
   ]
  },
  {
   "cell_type": "markdown",
   "metadata": {},
   "source": [
    "The total number of electrons is obtained directly from the Kohn-Sham eigenvalues $\\epsilon_{ik}$ by summing the occupations over all of the states\n",
    "\n",
    "$$E_{band} = \\sum_i \\sum_k w_k\\, f(\\epsilon_{ik})\\ ,$$\n",
    "\n",
    "where $i$ labels the band, $k$ labels the k point, $w_k$ is the weight of the k point, and $f(\\epsilon_{ik})$ is the occupation of the state, which is given by the Fermi-Dirac distribution function evaluated at energy $\\epsilon_{ik}$.  The weights $w_k$ arise from an implicit integral over the Brillouin zone, which is evaluated as a simple sum over a regular grid of k points.  This simple approach to evaluating the integral often gives reasonable results since $\\epsilon_{ik}$ is periodic in $k$, but it becomes less accurate when the Fermi level lies within a band due to the non-analytic behavior of the Fermi-Dirac function at the Fermi level. The sum over a regular grid of k-points is additionally reduced by symmetry, which results in different $w_k$ values for different $k$ values."
   ]
  },
  {
   "cell_type": "code",
   "execution_count": 21,
   "metadata": {},
   "outputs": [],
   "source": [
    "# Function generating the number of electrons from DFT results\n",
    "def dft_2_enum(dft, e_fermi = None, temperature = temp):\n",
    "    # input:\n",
    "    ## dft: a DFT_results instance\n",
    "    ## e_fermi: Fermi energy used in generating the occupations, defaults to Fermi energy from dft\n",
    "    ## temperature: temperature used in generating the occupations\n",
    "    # output:\n",
    "    ## enum: number of electrons\n",
    "\n",
    "    if e_fermi is None:\n",
    "        e_fermi = dft.fermi_energy\n",
    "    enum_per_band = fd_function(dft.eigs, e_fermi=e_fermi, temperature=temperature)\n",
    "    enum_per_band = dft.kweights[np.newaxis,:]*enum_per_band\n",
    "    enum = np.sum(enum_per_band)\n",
    "    return enum"
   ]
  },
  {
   "cell_type": "markdown",
   "metadata": {},
   "source": [
    "The \"band energy,\" which is also called the \"single-particle energy\" or the \"one-electron energy,\" is obtained directly from the Kohn-Sham eigenvalues $\\epsilon_{ik}$ from a weighted sum of the eigenvalues\n",
    "\n",
    "$$E_{band} = \\sum_i \\sum_k w_k\\, f(\\epsilon_{ik}) \\epsilon_{ik}\\ ,$$\n",
    "\n",
    "where the various terms are defined above."
   ]
  },
  {
   "cell_type": "code",
   "execution_count": 22,
   "metadata": {},
   "outputs": [],
   "source": [
    "# Function generating band energy from DFT results\n",
    "def dft_2_eband(dft, e_fermi = None, temperature = temp):\n",
    "    # input:\n",
    "    ## dft: a DFT_results instance\n",
    "    ## e_fermi: Fermi energy used in generating the occupations, defaults to Fermi energy from dft\n",
    "    ## temperature: temperature used in generating the occupations\n",
    "    # output:\n",
    "    ## eband: band energy\n",
    "\n",
    "    if e_fermi is None:\n",
    "        e_fermi = dft.fermi_energy\n",
    "    elif e_fermi == \"self-consistent\" or e_fermi == \"sc\":\n",
    "        e_fermi = toms748(lambda e_fermi: dft_2_enum(dft, e_fermi, temperature) - dft.n_electrons, a = np.min(dft.eigs), b = np.max(dft.eigs))\n",
    "    eband_per_band = dft.eigs*fd_function(dft.eigs, e_fermi=e_fermi, temperature=temperature)\n",
    "    eband_per_band = dft.kweights[np.newaxis,:]*eband_per_band\n",
    "    eband = np.sum(eband_per_band)\n",
    "    return eband"
   ]
  },
  {
   "cell_type": "code",
   "execution_count": 23,
   "metadata": {
    "scrolled": true
   },
   "outputs": [
    {
     "name": "stdout",
     "output_type": "stream",
     "text": [
      "2595.3654808767733\n"
     ]
    }
   ],
   "source": [
    "eband_0_888_ref=dft_2_eband(dft_0_888)\n",
    "print(eband_0_888_ref)"
   ]
  },
  {
   "cell_type": "code",
   "execution_count": 24,
   "metadata": {
    "scrolled": true
   },
   "outputs": [
    {
     "name": "stdout",
     "output_type": "stream",
     "text": [
      "2595.3470902759054\n"
     ]
    }
   ],
   "source": [
    "eband_0_888_sc_ref=dft_2_eband(dft_0_888, e_fermi = 'sc')\n",
    "print(eband_0_888_sc_ref)"
   ]
  },
  {
   "cell_type": "code",
   "execution_count": 25,
   "metadata": {
    "scrolled": true
   },
   "outputs": [
    {
     "name": "stdout",
     "output_type": "stream",
     "text": [
      "2598.146096688316\n"
     ]
    }
   ],
   "source": [
    "eband_1_888_ref=dft_2_eband(dft_1_888)\n",
    "print(eband_1_888_ref)"
   ]
  },
  {
   "cell_type": "code",
   "execution_count": 26,
   "metadata": {
    "scrolled": true
   },
   "outputs": [
    {
     "name": "stdout",
     "output_type": "stream",
     "text": [
      "2598.1203692340027\n"
     ]
    }
   ],
   "source": [
    "eband_1_888_sc_ref=dft_2_eband(dft_1_888, e_fermi = 'sc')\n",
    "print(eband_1_888_sc_ref)"
   ]
  },
  {
   "cell_type": "code",
   "execution_count": 27,
   "metadata": {
    "scrolled": true
   },
   "outputs": [
    {
     "name": "stdout",
     "output_type": "stream",
     "text": [
      "2595.8711214367395\n"
     ]
    }
   ],
   "source": [
    "eband_2_888_ref=dft_2_eband(dft_2_888)\n",
    "print(eband_2_888_ref)"
   ]
  },
  {
   "cell_type": "code",
   "execution_count": 28,
   "metadata": {
    "scrolled": true
   },
   "outputs": [
    {
     "name": "stdout",
     "output_type": "stream",
     "text": [
      "2595.876315137265\n"
     ]
    }
   ],
   "source": [
    "eband_2_888_sc_ref=dft_2_eband(dft_2_888, e_fermi = 'sc')\n",
    "print(eband_2_888_sc_ref)"
   ]
  },
  {
   "cell_type": "code",
   "execution_count": 29,
   "metadata": {},
   "outputs": [
    {
     "name": "stdout",
     "output_type": "stream",
     "text": [
      "768.0023586003111\n"
     ]
    }
   ],
   "source": [
    "enum_0_888_ref=dft_2_enum(dft_0_888)\n",
    "print(enum_0_888_ref)"
   ]
  },
  {
   "cell_type": "code",
   "execution_count": 30,
   "metadata": {},
   "outputs": [
    {
     "name": "stdout",
     "output_type": "stream",
     "text": [
      "768.0032983385398\n"
     ]
    }
   ],
   "source": [
    "enum_1_888_ref=dft_2_enum(dft_1_888)\n",
    "print(enum_1_888_ref)"
   ]
  },
  {
   "cell_type": "code",
   "execution_count": 31,
   "metadata": {},
   "outputs": [
    {
     "name": "stdout",
     "output_type": "stream",
     "text": [
      "767.9993338972209\n"
     ]
    }
   ],
   "source": [
    "enum_2_888_ref=dft_2_enum(dft_2_888)\n",
    "print(enum_2_888_ref)"
   ]
  },
  {
   "cell_type": "markdown",
   "metadata": {},
   "source": [
    "Alternatively, the total number of electrons can be obtained from the DOS\n",
    "\n",
    "$$E_{band} = \\int_{-\\infty}^{\\infty} dE\\ D(E)\\, f(E)\\,$$\n",
    "\n",
    "where $E$ denotes the energy, $D(E)$ the DOS, and $f(E)$ the Fermi-Dirac distribution function."
   ]
  },
  {
   "cell_type": "code",
   "execution_count": 32,
   "metadata": {},
   "outputs": [],
   "source": [
    "# Function generating integrated density (electron number) from DOS\n",
    "## Integrate DOS*FD to obtain band energy\n",
    "def dos_2_enum(dos, e_fermi = None, temperature = temp, integration = 'analytic'):\n",
    "    # input:\n",
    "    ## dos: a DOS instance\n",
    "    ## e_fermi: Fermi energy used in generating the occupations, defaults to Fermi energy from dft\n",
    "    ## temperature: temperature used in generating the occupations\n",
    "    ## integration: method of integration, which can be one of the following strings:\n",
    "    ### 'trapz': sp.integrate.trapz\n",
    "    ### 'simps': sp.integrate.simps\n",
    "    ### 'quad': sp.integrate.quad with linear interpolation of dos using sp.interpolate.interp1d\n",
    "    ### 'analytic': analytic integration of the Fermi function times the linearly interpolated dos\n",
    "    # output:\n",
    "    ## enum: number of electrons\n",
    "    \n",
    "    if e_fermi is None:\n",
    "        e_fermi = dos.dft.fermi_energy\n",
    "    if integration == 'trapz':\n",
    "        occupations = fd_function(dos.e_grid, e_fermi, temperature)\n",
    "        enum = sp.integrate.trapz(dos.dos * occupations, dos.e_grid)\n",
    "    elif integration == 'simps':\n",
    "        occupations = fd_function(dos.e_grid, e_fermi, temperature)\n",
    "        enum = sp.integrate.simps(dos.dos * occupations, dos.e_grid)\n",
    "    elif integration == 'quad':\n",
    "        f_dos = sp.interpolate.interp1d(dos.e_grid,dos.dos)\n",
    "        enum, abserr = sp.integrate.quad(\n",
    "            lambda e: f_dos(e)*fd_function(e, e_fermi, temperature),\n",
    "            dos.e_grid[0], dos.e_grid[-1], limit=500, points=(e_fermi))\n",
    "    elif integration == 'analytic':\n",
    "        enum = analytic_enum(dos.e_grid, dos.dos, e_fermi, temperature)\n",
    "    else:\n",
    "        raise ValueError('argument \"integration\" does not match an implemented method')\n",
    "    return enum"
   ]
  },
  {
   "cell_type": "code",
   "execution_count": 33,
   "metadata": {},
   "outputs": [],
   "source": [
    "# Calculate the self-consistent Fermi energy such that dos_2_enum(...) = dos.dft.n_electrons\n",
    "def dos_2_efermi(dos, temperature = temp, integration = 'analytic'):\n",
    "    # input:\n",
    "    ## dos: a DOS instance\n",
    "    ## temperature: temperature used in generating the occupations\n",
    "    ## integration: method of integration, which can be one of the following strings:\n",
    "    ### 'trapz': sp.integrate.trapz\n",
    "    ### 'simps': sp.integrate.simps\n",
    "    ### 'quad': sp.integrate.quad with linear interpolation of dos using sp.interpolate.interp1d\n",
    "    ### 'analytic': analytic integration of the Fermi function times the linearly interpolated dos\n",
    "    # output:\n",
    "    ## e_fermi: the self-consistent Fermi energy\n",
    "    \n",
    "    e_fermi = toms748(lambda e_fermi: dos_2_enum(dos, e_fermi, temperature, integration) - dos.dft.n_electrons,\n",
    "                          a = dos.e_grid[0], b = dos.e_grid[-1])\n",
    "    return e_fermi"
   ]
  },
  {
   "cell_type": "markdown",
   "metadata": {},
   "source": [
    "Similarly, the band energy can be obtained from the DOS\n",
    "\n",
    "$$E_{band} = \\int_{-\\infty}^{\\infty} dE\\ D(E)\\, f(E)\\, E .$$\n"
   ]
  },
  {
   "cell_type": "code",
   "execution_count": 34,
   "metadata": {},
   "outputs": [],
   "source": [
    "# Function generating band energy from DOS\n",
    "## Integrate E*DOS*FD to obtain band energy\n",
    "def dos_2_eband(dos, e_fermi = None, temperature = temp, integration = 'analytic'):\n",
    "    # input:\n",
    "    ## dos: a DOS instance\n",
    "    ## e_fermi: Fermi energy used in generating the occupations, defaults to Fermi energy from dft\n",
    "    ## temperature: temperature used in generating the occupations\n",
    "    ## integration: method of integration, which can be one of the following strings:\n",
    "    ### 'trapz': sp.integrate.trapz\n",
    "    ### 'simps': sp.integrate.simps\n",
    "    ### 'quad': sp.integrate.quad with linear interpolation of dos using sp.interpolate.interp1d\n",
    "    ### 'analytic': analytic integration of the Fermi function times the energy times the linearly interpolated dos\n",
    "    # output:\n",
    "    ## eband: calculated band energy in eV\n",
    "    \n",
    "    if e_fermi is None:\n",
    "        e_fermi = dos.dft.fermi_energy\n",
    "    elif e_fermi == \"self-consistent\" or e_fermi == \"sc\":\n",
    "        e_fermi = dos_2_efermi(dos, temperature, integration)\n",
    "    if integration == 'trapz':\n",
    "        occupations = fd_function(dos.e_grid, e_fermi, temperature)\n",
    "        eband = sp.integrate.trapz(dos.e_grid * dos.dos * occupations, dos.e_grid)\n",
    "    elif integration == 'simps':\n",
    "        occupations = fd_function(dos.e_grid, e_fermi, temperature)\n",
    "        eband = sp.integrate.simps(dos.e_grid * dos.dos * occupations, dos.e_grid)\n",
    "    elif integration == 'quad':\n",
    "        f_dos = sp.interpolate.interp1d(dos.e_grid,dos.dos)\n",
    "        eband, abserr = sp.integrate.quad(\n",
    "            lambda e: f_dos(e)*e*fd_function(e, e_fermi, temperature),\n",
    "            dos.e_grid[0], dos.e_grid[-1], limit=500, points=(e_fermi))\n",
    "    elif integration == 'analytic':\n",
    "        eband = analytic_eband(dos.e_grid, dos.dos, e_fermi, temperature)\n",
    "    else:\n",
    "        raise ValueError('argument \"integration\" does not match an implemented method')\n",
    "    return eband"
   ]
  },
  {
   "cell_type": "markdown",
   "metadata": {},
   "source": [
    "Compute total DOS"
   ]
  },
  {
   "cell_type": "code",
   "execution_count": 35,
   "metadata": {},
   "outputs": [
    {
     "data": {
      "image/png": "[encoded data removed]",
      "text/plain": [
       "<Figure size 864x648 with 1 Axes>"
      ]
     },
     "metadata": {
      "needs_background": "light"
     },
     "output_type": "display_data"
    }
   ],
   "source": [
    "# Use the same grid as used by the Quantum Espresso postprocessor\n",
    "e_grid = dos_qe_0_888_g.e_grid\n",
    "#e_grid = np.arange(-5.0,15.0,0.1)\n",
    "\n",
    "# Determine the smearing for the Gaussian representation of the delta function\n",
    "sigma = e_grid[1] - e_grid[0]\n",
    "narrow_gaussian = partial(gaussian, sigma = sigma)\n",
    "wide_gaussian = partial(gaussian, sigma = 2.0*sigma)\n",
    "\n",
    "# Compute the DOS for snap_0 with 888 k-points using each representation of the delta function\n",
    "dos_0_888_g = DOS.from_calculation(dft_0_888, e_grid, narrow_gaussian )\n",
    "dos_0_888_2g = DOS.from_calculation(dft_0_888, e_grid, wide_gaussian )\n",
    "dos_0_888_M1 = DOS.from_calculation(dft_0_888, e_grid, delta_M1)\n",
    "\n",
    "# Compute the DOS for snap_1 with 888 k-points using each representation of the delta function\n",
    "dos_1_888_g = DOS.from_calculation(dft_1_888, e_grid, narrow_gaussian )\n",
    "dos_1_888_2g = DOS.from_calculation(dft_1_888, e_grid, wide_gaussian )\n",
    "dos_1_888_M1 = DOS.from_calculation(dft_1_888, e_grid, delta_M1)\n",
    "\n",
    "# Compute the DOS for snap_2 with 888 k-points using each representation of the delta function\n",
    "dos_2_888_g = DOS.from_calculation(dft_2_888, e_grid, narrow_gaussian )\n",
    "dos_2_888_2g = DOS.from_calculation(dft_2_888, e_grid, wide_gaussian )\n",
    "dos_2_888_M1 = DOS.from_calculation(dft_2_888, e_grid, delta_M1)\n",
    "        \n",
    "# Plot data        \n",
    "plt.figure(figsize=[12,9])\n",
    "ax = plt.subplot(1,1,1)\n",
    "ax.set_xlabel(r'E [eV]')\n",
    "ax.set_ylabel(r'D(E)')\n",
    "plt.rcParams.update({'font.size': 22})\n",
    "\n",
    "ax.plot(dos_qe_0_888_g.e_grid, dos_qe_0_888_g.dos, linestyle='--', linewidth=3, color='yellow', label='QE-DOS G')\n",
    "ax.plot(dos_qe_0_888_2g.e_grid, dos_qe_0_888_2g.dos, linestyle='--', linewidth=3, color='black', label='QE-DOS 2G')\n",
    "ax.plot(dos_0_888_2g.e_grid, dos_0_888_2g.dos, linestyle='-', linewidth=3, color='blue',  label='wide Gaussian')\n",
    "#ax.plot(dos_0_888_g.e_grid, dos_0_888_g.dos, linestyle='-', linewidth=3, color='green',  label='narrow Gaussian')\n",
    "#ax.plot(dos_0_888_M1.e_grid, dos_0_888_M1.dos, linestyle='-', linewidth=3, color='red',  label='M1 delta representation')\n",
    "\n",
    "\n",
    "# Legend\n",
    "ax.legend(loc='upper right',frameon=False, bbox_to_anchor=(0.55, 1.0))\n",
    "plt.show()"
   ]
  },
  {
   "cell_type": "markdown",
   "metadata": {},
   "source": [
    "We can recover the QE-DOS result by using the same parameters as in the input for computing the DOS.\n",
    "\n",
    "Now we can go ahead and investigate different energy grids and smearing values in order to improve upon the band energy and achieve better agreement with the band-energy output of QE."
   ]
  },
  {
   "cell_type": "code",
   "execution_count": 36,
   "metadata": {},
   "outputs": [
    {
     "name": "stderr",
     "output_type": "stream",
     "text": [
      "<ipython-input-32-0b6daeae7aaf>:26: IntegrationWarning: The occurrence of roundoff error is detected, which prevents \n",
      "  the requested tolerance from being achieved.  The error may be \n",
      "  underestimated.\n",
      "  enum, abserr = sp.integrate.quad(\n"
     ]
    },
    {
     "name": "stdout",
     "output_type": "stream",
     "text": [
      "0.28304728577404603\n",
      "0.10647239198749503\n",
      "0.04538864728692715\n"
     ]
    }
   ],
   "source": [
    "print(dos_2_enum(dos_0_888_2g, integration = 'quad') - enum_0_888_ref)\n",
    "print(dos_2_enum(dos_0_888_g, integration = 'quad') - enum_0_888_ref)\n",
    "print(dos_2_enum(dos_0_888_M1, integration = 'quad') - enum_0_888_ref)"
   ]
  },
  {
   "cell_type": "code",
   "execution_count": 37,
   "metadata": {},
   "outputs": [
    {
     "name": "stdout",
     "output_type": "stream",
     "text": [
      "0.28310624238542914\n",
      "0.10668622714081266\n",
      "0.04539697333029835\n"
     ]
    }
   ],
   "source": [
    "print(dos_2_enum(dos_0_888_2g, integration = 'analytic') - enum_0_888_ref)\n",
    "print(dos_2_enum(dos_0_888_g, integration = 'analytic') - enum_0_888_ref)\n",
    "print(dos_2_enum(dos_0_888_M1, integration = 'analytic') - enum_0_888_ref)"
   ]
  },
  {
   "cell_type": "code",
   "execution_count": 38,
   "metadata": {},
   "outputs": [
    {
     "name": "stdout",
     "output_type": "stream",
     "text": [
      "0.28325765921397306\n",
      "0.1065453373927312\n"
     ]
    }
   ],
   "source": [
    "print(dos_2_enum(dos_qe_0_888_2g, integration = 'analytic') - enum_0_888_ref)\n",
    "print(dos_2_enum(dos_qe_0_888_g, integration = 'analytic') - enum_0_888_ref)"
   ]
  },
  {
   "cell_type": "code",
   "execution_count": 39,
   "metadata": {},
   "outputs": [
    {
     "name": "stderr",
     "output_type": "stream",
     "text": [
      "<ipython-input-32-0b6daeae7aaf>:26: IntegrationWarning: The occurrence of roundoff error is detected, which prevents \n",
      "  the requested tolerance from being achieved.  The error may be \n",
      "  underestimated.\n",
      "  enum, abserr = sp.integrate.quad(\n"
     ]
    },
    {
     "name": "stdout",
     "output_type": "stream",
     "text": [
      "0.28533298020636266\n",
      "0.10744953331345641\n",
      "0.052445261101411234\n"
     ]
    }
   ],
   "source": [
    "print(dos_2_enum(dos_1_888_2g, integration = 'quad') - enum_1_888_ref)\n",
    "print(dos_2_enum(dos_1_888_g, integration = 'quad') - enum_1_888_ref)\n",
    "print(dos_2_enum(dos_1_888_M1, integration = 'quad') - enum_1_888_ref)"
   ]
  },
  {
   "cell_type": "code",
   "execution_count": 40,
   "metadata": {},
   "outputs": [
    {
     "name": "stdout",
     "output_type": "stream",
     "text": [
      "0.2856521550979778\n",
      "0.10731624971231213\n",
      "0.052275393386821634\n"
     ]
    }
   ],
   "source": [
    "print(dos_2_enum(dos_1_888_2g, integration = 'analytic') - enum_1_888_ref)\n",
    "print(dos_2_enum(dos_1_888_g, integration = 'analytic') - enum_1_888_ref)\n",
    "print(dos_2_enum(dos_1_888_M1, integration = 'analytic') - enum_1_888_ref)"
   ]
  },
  {
   "cell_type": "code",
   "execution_count": 41,
   "metadata": {},
   "outputs": [
    {
     "name": "stdout",
     "output_type": "stream",
     "text": [
      "0.28996261895224507\n"
     ]
    }
   ],
   "source": [
    "print(dos_2_enum(dos_qe_1_888_2g, integration = 'analytic') - enum_1_888_ref)"
   ]
  },
  {
   "cell_type": "code",
   "execution_count": 42,
   "metadata": {},
   "outputs": [
    {
     "name": "stderr",
     "output_type": "stream",
     "text": [
      "<ipython-input-32-0b6daeae7aaf>:26: IntegrationWarning: The occurrence of roundoff error is detected, which prevents \n",
      "  the requested tolerance from being achieved.  The error may be \n",
      "  underestimated.\n",
      "  enum, abserr = sp.integrate.quad(\n"
     ]
    },
    {
     "name": "stdout",
     "output_type": "stream",
     "text": [
      "0.24194209412007694\n",
      "0.07849218150795423\n",
      "0.027242952126243836\n"
     ]
    }
   ],
   "source": [
    "print(dos_2_enum(dos_2_888_2g, integration = 'quad') - enum_2_888_ref)\n",
    "print(dos_2_enum(dos_2_888_g, integration = 'quad') - enum_2_888_ref)\n",
    "print(dos_2_enum(dos_2_888_M1, integration = 'quad') - enum_2_888_ref)"
   ]
  },
  {
   "cell_type": "code",
   "execution_count": 43,
   "metadata": {
    "scrolled": true
   },
   "outputs": [
    {
     "name": "stdout",
     "output_type": "stream",
     "text": [
      "0.24220842096963224\n",
      "0.07857100610215184\n",
      "0.027246274673416337\n"
     ]
    }
   ],
   "source": [
    "print(dos_2_enum(dos_2_888_2g, integration = 'analytic') - enum_2_888_ref)\n",
    "print(dos_2_enum(dos_2_888_g, integration = 'analytic') - enum_2_888_ref)\n",
    "print(dos_2_enum(dos_2_888_M1, integration = 'analytic') - enum_2_888_ref)"
   ]
  },
  {
   "cell_type": "code",
   "execution_count": 44,
   "metadata": {},
   "outputs": [
    {
     "name": "stdout",
     "output_type": "stream",
     "text": [
      "0.2487092959330539\n"
     ]
    }
   ],
   "source": [
    "print(dos_2_enum(dos_qe_2_888_2g, integration = 'analytic') - enum_2_888_ref)"
   ]
  },
  {
   "cell_type": "code",
   "execution_count": 45,
   "metadata": {},
   "outputs": [
    {
     "name": "stderr",
     "output_type": "stream",
     "text": [
      "<ipython-input-34-1b959d83657e>:28: IntegrationWarning: The occurrence of roundoff error is detected, which prevents \n",
      "  the requested tolerance from being achieved.  The error may be \n",
      "  underestimated.\n",
      "  eband, abserr = sp.integrate.quad(\n"
     ]
    },
    {
     "name": "stdout",
     "output_type": "stream",
     "text": [
      "1.0630292256505527\n",
      "0.4771164300154851\n",
      "0.17639036704667888\n"
     ]
    }
   ],
   "source": [
    "print(dos_2_eband(dos_0_888_2g, integration = 'quad') - eband_0_888_ref)\n",
    "print(dos_2_eband(dos_0_888_g, integration = 'quad') - eband_0_888_ref)\n",
    "print(dos_2_eband(dos_0_888_M1, integration = 'quad') - eband_0_888_ref)"
   ]
  },
  {
   "cell_type": "code",
   "execution_count": 46,
   "metadata": {},
   "outputs": [
    {
     "name": "stdout",
     "output_type": "stream",
     "text": [
      "1.064013783009159\n",
      "0.47773027019775327\n",
      "0.17632259174706633\n"
     ]
    }
   ],
   "source": [
    "print(dos_2_eband(dos_0_888_2g, integration = 'analytic') - eband_0_888_ref)\n",
    "print(dos_2_eband(dos_0_888_g, integration = 'analytic') - eband_0_888_ref)\n",
    "print(dos_2_eband(dos_0_888_M1, integration = 'analytic') - eband_0_888_ref)"
   ]
  },
  {
   "cell_type": "code",
   "execution_count": 47,
   "metadata": {},
   "outputs": [
    {
     "name": "stdout",
     "output_type": "stream",
     "text": [
      "0.7286718881982779\n",
      "0.06695301014724464\n",
      "-0.27639639720928244\n"
     ]
    }
   ],
   "source": [
    "print(dos_2_eband(dos_0_888_2g, integration = 'trapz') - eband_0_888_ref)\n",
    "print(dos_2_eband(dos_0_888_g, integration = 'trapz') - eband_0_888_ref)\n",
    "print(dos_2_eband(dos_0_888_M1, integration = 'trapz') - eband_0_888_ref)"
   ]
  },
  {
   "cell_type": "code",
   "execution_count": 48,
   "metadata": {},
   "outputs": [
    {
     "name": "stdout",
     "output_type": "stream",
     "text": [
      "1.276224426794215\n",
      "0.44716557464926154\n",
      "0.16444612119903468\n"
     ]
    }
   ],
   "source": [
    "print(dos_2_eband(dos_0_888_2g, integration = 'simps') - eband_0_888_ref)\n",
    "print(dos_2_eband(dos_0_888_g, integration = 'simps') - eband_0_888_ref)\n",
    "print(dos_2_eband(dos_0_888_M1, integration = 'simps') - eband_0_888_ref)"
   ]
  },
  {
   "cell_type": "code",
   "execution_count": 49,
   "metadata": {},
   "outputs": [
    {
     "name": "stdout",
     "output_type": "stream",
     "text": [
      "1.076458786079911\n",
      "0.50766853644609\n"
     ]
    }
   ],
   "source": [
    "print(dos_2_eband(dos_qe_0_888_2g, integration = 'analytic') - eband_0_888_ref)\n",
    "print(dos_2_eband(dos_qe_0_888_g, integration = 'analytic') - eband_0_888_ref)"
   ]
  },
  {
   "cell_type": "code",
   "execution_count": 50,
   "metadata": {},
   "outputs": [
    {
     "name": "stdout",
     "output_type": "stream",
     "text": [
      "-1.142993832596403\n",
      "-0.35408061825773984\n",
      "-0.17764809464233622\n"
     ]
    }
   ],
   "source": [
    "print(dos_2_eband(dos_0_888_2g, e_fermi = 'sc', integration = 'analytic') - eband_0_888_sc_ref)\n",
    "print(dos_2_eband(dos_0_888_g, e_fermi = 'sc', integration = 'analytic') - eband_0_888_sc_ref)\n",
    "print(dos_2_eband(dos_0_888_M1, e_fermi = 'sc', integration = 'analytic') - eband_0_888_sc_ref)"
   ]
  },
  {
   "cell_type": "code",
   "execution_count": 51,
   "metadata": {},
   "outputs": [
    {
     "name": "stdout",
     "output_type": "stream",
     "text": [
      "-1.1317269716278133\n",
      "-0.32304349481273675\n"
     ]
    }
   ],
   "source": [
    "print(dos_2_eband(dos_qe_0_888_2g, e_fermi = 'sc', integration = 'analytic') - eband_0_888_sc_ref)\n",
    "print(dos_2_eband(dos_qe_0_888_g, e_fermi = 'sc', integration = 'analytic') - eband_0_888_sc_ref)"
   ]
  },
  {
   "cell_type": "code",
   "execution_count": 52,
   "metadata": {},
   "outputs": [
    {
     "name": "stdout",
     "output_type": "stream",
     "text": [
      "1.0844960764566167\n",
      "0.4831471591865011\n",
      "0.22979756722861566\n"
     ]
    }
   ],
   "source": [
    "print(dos_2_eband(dos_1_888_2g, integration = 'analytic') - eband_1_888_ref)\n",
    "print(dos_2_eband(dos_1_888_g, integration = 'analytic') - eband_1_888_ref)\n",
    "print(dos_2_eband(dos_1_888_M1, integration = 'analytic') - eband_1_888_ref)"
   ]
  },
  {
   "cell_type": "code",
   "execution_count": 53,
   "metadata": {},
   "outputs": [
    {
     "name": "stdout",
     "output_type": "stream",
     "text": [
      "1.0794197056247867\n"
     ]
    }
   ],
   "source": [
    "print(dos_2_eband(dos_qe_1_888_2g, integration = 'analytic') - eband_1_888_ref)"
   ]
  },
  {
   "cell_type": "code",
   "execution_count": 54,
   "metadata": {},
   "outputs": [
    {
     "name": "stdout",
     "output_type": "stream",
     "text": [
      "-1.1431815692762939\n",
      "-0.35388643115402374\n",
      "-0.1779532195914726\n"
     ]
    }
   ],
   "source": [
    "print(dos_2_eband(dos_1_888_2g, e_fermi = 'sc', integration = 'analytic') - eband_1_888_sc_ref)\n",
    "print(dos_2_eband(dos_1_888_g, e_fermi = 'sc', integration = 'analytic') - eband_1_888_sc_ref)\n",
    "print(dos_2_eband(dos_1_888_M1, e_fermi = 'sc', integration = 'analytic') - eband_1_888_sc_ref)"
   ]
  },
  {
   "cell_type": "code",
   "execution_count": 55,
   "metadata": {},
   "outputs": [
    {
     "name": "stdout",
     "output_type": "stream",
     "text": [
      "-1.181866304027153\n"
     ]
    }
   ],
   "source": [
    "print(dos_2_eband(dos_qe_1_888_2g, e_fermi = 'sc', integration = 'analytic') - eband_1_888_sc_ref)"
   ]
  },
  {
   "cell_type": "code",
   "execution_count": 56,
   "metadata": {},
   "outputs": [
    {
     "name": "stdout",
     "output_type": "stream",
     "text": [
      "0.745995223531736\n",
      "0.2597264144933433\n",
      "0.03463604357057193\n"
     ]
    }
   ],
   "source": [
    "print(dos_2_eband(dos_2_888_2g, integration = 'analytic') - eband_2_888_ref)\n",
    "print(dos_2_eband(dos_2_888_g, integration = 'analytic') - eband_2_888_ref)\n",
    "print(dos_2_eband(dos_2_888_M1, integration = 'analytic') - eband_2_888_ref)"
   ]
  },
  {
   "cell_type": "code",
   "execution_count": 57,
   "metadata": {},
   "outputs": [
    {
     "name": "stdout",
     "output_type": "stream",
     "text": [
      "0.8088733359654725\n"
     ]
    }
   ],
   "source": [
    "print(dos_2_eband(dos_qe_2_888_2g, integration = 'analytic') - eband_2_888_ref)"
   ]
  },
  {
   "cell_type": "code",
   "execution_count": 58,
   "metadata": {},
   "outputs": [
    {
     "name": "stdout",
     "output_type": "stream",
     "text": [
      "-1.1422852665114078\n",
      "-0.3528987682757361\n",
      "-0.17781404766901687\n"
     ]
    }
   ],
   "source": [
    "print(dos_2_eband(dos_2_888_2g, e_fermi = 'sc', integration = 'analytic') - eband_2_888_sc_ref)\n",
    "print(dos_2_eband(dos_2_888_g, e_fermi = 'sc', integration = 'analytic') - eband_2_888_sc_ref)\n",
    "print(dos_2_eband(dos_2_888_M1, e_fermi = 'sc', integration = 'analytic') - eband_2_888_sc_ref)"
   ]
  },
  {
   "cell_type": "code",
   "execution_count": 59,
   "metadata": {},
   "outputs": [
    {
     "name": "stdout",
     "output_type": "stream",
     "text": [
      "-1.1300799679197553\n"
     ]
    }
   ],
   "source": [
    "print(dos_2_eband(dos_qe_2_888_2g, e_fermi = 'sc', integration = 'analytic') - eband_2_888_sc_ref)"
   ]
  },
  {
   "cell_type": "markdown",
   "metadata": {},
   "source": [
    "We can go also investigate how quantities evaluated from the LDOS calculated either by Quantum Espresso\n",
    "or by machine learning compare with the results evaluated from the DOS that we calculate from eigenvalues."
   ]
  },
  {
   "cell_type": "code",
   "execution_count": 60,
   "metadata": {},
   "outputs": [],
   "source": [
    "if read_QE_LDOS:\n",
    "    ldos_e_grid = np.linspace(-10.0,14.9,250)\n",
    "    ldos_2_888_2g = LDOS(dft_2_888, ldos_e_grid,\n",
    "      '/Users/namodin/Documents/Machine Learning/ldos_data/ldos_200x200x200grid_250elvls_snapshot2.npy')\n",
    "\n",
    "if read_ML_LDOS:\n",
    "    ldos_e_grid = np.linspace(-10.0,14.9,250)\n",
    "    ldos_ml_2_888_2g = LDOS(dft_2_888, ldos_e_grid,\n",
    "      '/Users/namodin/Documents/Machine Learning/ldos_data/FeedForward_fp_ldos_predictions_may5.npy')"
   ]
  },
  {
   "cell_type": "code",
   "execution_count": 61,
   "metadata": {},
   "outputs": [],
   "source": [
    "#  This checks how well the eband and electron density computed in various ways from the LDOS agree\n",
    "if read_QE_LDOS:\n",
    "    print(dos_2_eband(dos_2_888_2g, e_fermi = 'sc', integration = 'analytic'),\n",
    "          dos_2_eband(dos_2_888_2g, e_fermi = 'sc', integration = 'analytic') - eband_2_888_sc_ref)\n",
    "    print(dos_2_eband(ldos_2_888_2g.dos, e_fermi = 'sc', integration = 'analytic'),\n",
    "          dos_2_eband(ldos_2_888_2g.dos, e_fermi = 'sc', integration = 'analytic') - eband_2_888_sc_ref)\n",
    "    print(ldos_2_888_2g.eband, ldos_2_888_2g.eband - eband_2_888_sc_ref)\n",
    "    print(np.sum(ldos_2_888_2g.density)*ldos_2_888_2g.cell_volume,\n",
    "          np.sum(ldos_2_888_2g.density)*ldos_2_888_2g.cell_volume - ldos_2_888_2g.dft.n_electrons)"
   ]
  },
  {
   "cell_type": "code",
   "execution_count": 62,
   "metadata": {},
   "outputs": [],
   "source": [
    "#  This shows that I can get agreement with Austin's band energy for the ML predicted LDOS by altering parameters\n",
    "if read_ML_LDOS:\n",
    "    print(dos_2_eband(dos_2_888_2g, integration = 'simps'))\n",
    "    print(dos_2_eband(ldos_ml_2_888_2g.dos, integration = 'simps'),\n",
    "          dos_2_eband(ldos_ml_2_888_2g.dos, integration = 'simps') - dos_2_eband(dos_2_888_2g, integration = 'simps'))\n",
    "    print(\"Changing energy grid!\")\n",
    "    ldos_ml_2_888_2g.dos.e_grid = np.linspace(-10.0,15.0,250)\n",
    "    print(dos_2_eband(ldos_ml_2_888_2g.dos, integration = 'simps'))\n",
    "    print(dos_2_eband(ldos_ml_2_888_2g.dos, e_fermi = 7.7967, integration = 'simps'))\n",
    "    cell_volume = ldos_ml_2_888_2g.dft.volume/(200.0*Br2AA)**3\n",
    "    print(cell_volume, cell_volume**(1.0/3.0))\n",
    "    print(dos_2_eband(ldos_ml_2_888_2g.dos, e_fermi = 7.7967, integration = 'simps')*0.153049**3/cell_volume)\n",
    "    print(\"Resetting energy grid!\")\n",
    "    ldos_ml_2_888_2g.dos.e_grid = np.linspace(-10.0,14.9,250)"
   ]
  },
  {
   "cell_type": "code",
   "execution_count": 63,
   "metadata": {},
   "outputs": [],
   "source": [
    "#  This checks how well the eband and electron density computed in various ways from the LDOS agree\n",
    "if read_ML_LDOS:\n",
    "    print(dos_2_eband(dos_2_888_2g, e_fermi = 'sc', integration = 'analytic'),\n",
    "          dos_2_eband(dos_2_888_2g, e_fermi = 'sc', integration = 'analytic') - eband_2_888_sc_ref)\n",
    "    print(dos_2_eband(ldos_ml_2_888_2g.dos, e_fermi = 'sc', integration = 'analytic'),\n",
    "          dos_2_eband(ldos_ml_2_888_2g.dos, e_fermi = 'sc', integration = 'analytic') - eband_2_888_sc_ref)\n",
    "    print(ldos_ml_2_888_2g.eband, ldos_ml_2_888_2g.eband - eband_2_888_sc_ref)\n",
    "    print(np.sum(ldos_ml_2_888_2g.density)*ldos_ml_2_888_2g.cell_volume,\n",
    "          np.sum(ldos_ml_2_888_2g.density)*ldos_ml_2_888_2g.cell_volume - ldos_ml_2_888_2g.dft.n_electrons)"
   ]
  },
  {
   "cell_type": "markdown",
   "metadata": {},
   "source": [
    "Now we will investigate how quantities calculated from various definitions of the DOS change as the energy grid is varied.  This both gives us an idea of the error associated with various definitions of the DOS and how much the error varies with details of the calculation (e.g., grid spacing)."
   ]
  },
  {
   "cell_type": "code",
   "execution_count": 64,
   "metadata": {},
   "outputs": [
    {
     "name": "stdout",
     "output_type": "stream",
     "text": [
      "241\n",
      "242\n",
      "243\n",
      "244\n",
      "245\n",
      "246\n",
      "247\n",
      "248\n",
      "249\n",
      "250\n",
      "251\n"
     ]
    }
   ],
   "source": [
    "emin = e_grid[0]\n",
    "emax = e_grid[-1]\n",
    "n_egrid_max = len(e_grid)\n",
    "n_egrids = np.arange(n_egrid_max - 10, n_egrid_max + 1)\n",
    "\n",
    "dosn_0_888_g = []\n",
    "dosn_0_888_2g = []\n",
    "dosn_0_888_M1 = []\n",
    "\n",
    "for n_egrid in n_egrids:\n",
    "    \n",
    "    print(n_egrid)\n",
    "    \n",
    "    e_grid_n = np.linspace(emin, emax, n_egrid)\n",
    "    sigma_mod = e_grid_n[1] - e_grid_n[0]\n",
    "    narrow_gaussian = partial(gaussian, sigma = sigma)\n",
    "    wide_gaussian = partial(gaussian, sigma = 2.0*sigma)\n",
    "\n",
    "    dosn_0_888_g.append(DOS.from_calculation(dft_0_888, e_grid_n, narrow_gaussian ))\n",
    "    dosn_0_888_2g.append(DOS.from_calculation(dft_0_888, e_grid_n, wide_gaussian ))\n",
    "    dosn_0_888_M1.append(DOS.from_calculation(dft_0_888, e_grid_n, delta_M1))"
   ]
  },
  {
   "cell_type": "code",
   "execution_count": 65,
   "metadata": {},
   "outputs": [],
   "source": [
    "enum_error_0_888_g = []\n",
    "eband_error_0_888_g = []\n",
    "for dos in dosn_0_888_g:\n",
    "    enum_error_0_888_g.append(dos_2_enum(dos, integration = 'analytic') - enum_0_888_ref)\n",
    "    eband_error_0_888_g.append(dos_2_eband(dos, e_fermi = 'sc', integration = 'analytic') - eband_0_888_sc_ref)\n",
    "enum_error_0_888_g = np.array(enum_error_0_888_g)\n",
    "eband_error_0_888_g = np.array(eband_error_0_888_g)\n",
    "\n",
    "enum_error_0_888_2g = []\n",
    "eband_error_0_888_2g = []\n",
    "for dos in dosn_0_888_2g:\n",
    "    enum_error_0_888_2g.append(dos_2_enum(dos, integration = 'analytic') - enum_0_888_ref)\n",
    "    eband_error_0_888_2g.append(dos_2_eband(dos, e_fermi = 'sc', integration = 'analytic') - eband_0_888_sc_ref)\n",
    "enum_error_0_888_2g = np.array(enum_error_0_888_2g)\n",
    "eband_error_0_888_2g = np.array(eband_error_0_888_2g)\n",
    "\n",
    "enum_error_0_888_M1 = []\n",
    "eband_error_0_888_M1 = []\n",
    "for dos in dosn_0_888_M1:\n",
    "    enum_error_0_888_M1.append(dos_2_enum(dos, integration = 'analytic') - enum_0_888_ref)\n",
    "    eband_error_0_888_M1.append(dos_2_eband(dos, e_fermi = 'sc', integration = 'analytic') - eband_0_888_sc_ref)\n",
    "enum_error_0_888_M1 = np.array(enum_error_0_888_M1)\n",
    "eband_error_0_888_M1 = np.array(eband_error_0_888_M1)\n",
    "    "
   ]
  },
  {
   "cell_type": "code",
   "execution_count": 66,
   "metadata": {},
   "outputs": [
    {
     "data": {
      "image/png": "[encoded data removed]",
      "text/plain": [
       "<Figure size 864x648 with 1 Axes>"
      ]
     },
     "metadata": {
      "needs_background": "light"
     },
     "output_type": "display_data"
    }
   ],
   "source": [
    "# Plot electron number errors using the three DOS definitions        \n",
    "plt.figure(figsize=[12,9])\n",
    "ax = plt.subplot(1,1,1)\n",
    "ax.set_xlabel(r'Size of Energy Grid')\n",
    "ax.set_ylabel(r'Error in Electron Number')\n",
    "plt.rcParams.update({'font.size': 22})\n",
    "plt.yscale(\"log\")\n",
    "\n",
    "ax.plot(np.array(n_egrids), np.abs(enum_error_0_888_2g), linestyle='-',  linewidth=1, color='blue',  label='Wide Gaussian DOS')\n",
    "ax.plot(np.array(n_egrids), np.abs(enum_error_0_888_g), linestyle='-',  linewidth=1, color='green', label='Narrow Gaussian DOS')\n",
    "ax.plot(np.array(n_egrids), np.abs(enum_error_0_888_M1), linestyle='-',  linewidth=1, color='red', label='First Moment DOS')\n",
    "\n",
    "# Legend\n",
    "ax.legend(loc='upper right',frameon=False, bbox_to_anchor=(1, 1))\n",
    "#plt.savefig('E_num_vs_N_grid_all_states.png',dpi=100,bbox_inches='tight')\n",
    "plt.show()"
   ]
  },
  {
   "cell_type": "code",
   "execution_count": 67,
   "metadata": {},
   "outputs": [
    {
     "data": {
      "image/png": "[encoded data removed]",
      "text/plain": [
       "<Figure size 864x648 with 1 Axes>"
      ]
     },
     "metadata": {
      "needs_background": "light"
     },
     "output_type": "display_data"
    }
   ],
   "source": [
    "# Plot band energy errors using the three DOS definitions        \n",
    "plt.figure(figsize=[12,9])\n",
    "ax = plt.subplot(1,1,1)\n",
    "ax.set_xlabel(r'Size of Energy Grid')\n",
    "ax.set_ylabel(r'Error in Band Energy (eV)')\n",
    "plt.rcParams.update({'font.size': 22})\n",
    "plt.yscale(\"log\")\n",
    "\n",
    "ax.plot(np.array(n_egrids), np.abs(eband_error_0_888_2g), linestyle='-',  linewidth=1, color='blue',  label='Wide Gaussian DOS')\n",
    "ax.plot(np.array(n_egrids), np.abs(eband_error_0_888_g), linestyle='-',  linewidth=1, color='green', label='Narrow Gaussian DOS')\n",
    "ax.plot(np.array(n_egrids), np.abs(eband_error_0_888_M1), linestyle='-',  linewidth=1, color='red', label='First Moment DOS')\n",
    "\n",
    "# Legend\n",
    "ax.legend(loc='upper right',frameon=False, bbox_to_anchor=(1, 1))\n",
    "#plt.savefig('E_band_vs_N_grid_all_states.png',dpi=100,bbox_inches='tight')\n",
    "plt.show()"
   ]
  },
  {
   "cell_type": "code",
   "execution_count": 68,
   "metadata": {},
   "outputs": [
    {
     "name": "stdout",
     "output_type": "stream",
     "text": [
      "0.5\n",
      "0.6\n",
      "0.7\n",
      "0.8\n",
      "0.9\n",
      "1.0\n",
      "1.1\n",
      "1.2\n",
      "1.5\n",
      "1.7\n",
      "2.0\n",
      "2.5\n",
      "3.0\n",
      "3.5\n",
      "4.0\n"
     ]
    }
   ],
   "source": [
    "n_egrid = 250\n",
    "emin = e_grid[0]\n",
    "emax = e_grid[-1]\n",
    "n_egrid_max = len(e_grid)\n",
    "n_egrids = np.arange(n_egrid_max - 10, n_egrid_max + 1)\n",
    "\n",
    "dosn_0_888_vg = []\n",
    "\n",
    "sigma = e_grid[1] - e_grid[0]\n",
    "sigma_multipliers = np.array([0.5,0.6,0.7,0.8,0.9,1.0,1.1,1.2,1.5,1.7,2.0,2.5,3.0,3.5,4.0])\n",
    "\n",
    "for sigma_multiplier in sigma_multipliers:\n",
    "    \n",
    "    print(sigma_multiplier)\n",
    "    delta_f = partial(gaussian, sigma = sigma*sigma_multiplier)\n",
    "    dosn_0_888_vg.append(DOS.from_calculation(dft_0_888, e_grid, delta_f ))"
   ]
  },
  {
   "cell_type": "code",
   "execution_count": 69,
   "metadata": {},
   "outputs": [],
   "source": [
    "enum_error_0_888_vg = []\n",
    "eband_error_0_888_vg = []\n",
    "for dos in dosn_0_888_vg:\n",
    "    enum_error_0_888_vg.append(dos_2_enum(dos, integration = 'analytic') - enum_0_888_ref)\n",
    "    eband_error_0_888_vg.append(dos_2_eband(dos, e_fermi = 'sc', integration = 'analytic') - eband_0_888_sc_ref)\n",
    "enum_error_0_888_g = np.array(enum_error_0_888_vg)\n",
    "eband_error_0_888_g = np.array(eband_error_0_888_vg)"
   ]
  },
  {
   "cell_type": "code",
   "execution_count": 70,
   "metadata": {},
   "outputs": [
    {
     "data": {
      "image/png": "[encoded data removed]",
      "text/plain": [
       "<Figure size 864x648 with 1 Axes>"
      ]
     },
     "metadata": {
      "needs_background": "light"
     },
     "output_type": "display_data"
    }
   ],
   "source": [
    "# Plot electron number errors using the three DOS definitions        \n",
    "plt.figure(figsize=[12,9])\n",
    "ax = plt.subplot(1,1,1)\n",
    "ax.set_xlabel(r'Gaussian Width / Grid Spacing')\n",
    "ax.set_ylabel(r'Error in Electron Number')\n",
    "plt.rcParams.update({'font.size': 22})\n",
    "\n",
    "ax.plot(sigma_multipliers, enum_error_0_888_vg, linestyle='-',  linewidth=1, color='blue',  label='Gaussian DOS')\n",
    "\n",
    "# Legend\n",
    "ax.legend(loc='upper right',frameon=False, bbox_to_anchor=(1, 1))\n",
    "#plt.savefig('E_num_vs_G_width_all_states.png',dpi=100,bbox_inches='tight')\n",
    "plt.show()"
   ]
  },
  {
   "cell_type": "code",
   "execution_count": 71,
   "metadata": {},
   "outputs": [
    {
     "data": {
      "image/png": "[encoded data removed]",
      "text/plain": [
       "<Figure size 864x648 with 1 Axes>"
      ]
     },
     "metadata": {
      "needs_background": "light"
     },
     "output_type": "display_data"
    }
   ],
   "source": [
    "# Plot electron number errors using the three DOS definitions        \n",
    "plt.figure(figsize=[12,9])\n",
    "ax = plt.subplot(1,1,1)\n",
    "ax.set_xlabel(r'Gaussian Width / Grid Spacing')\n",
    "ax.set_ylabel(r'Error in Band Energy (eV)')\n",
    "plt.rcParams.update({'font.size': 22})\n",
    "\n",
    "ax.plot(sigma_multipliers, eband_error_0_888_vg, linestyle='-',  linewidth=1, color='blue',  label='Gaussian DOS')\n",
    "\n",
    "# Legend\n",
    "ax.legend(loc='upper right',frameon=False, bbox_to_anchor=(1, 1))\n",
    "#plt.savefig('E_band_vs_G_width_all_states.png',dpi=100,bbox_inches='tight')\n",
    "plt.show()"
   ]
  },
  {
   "cell_type": "markdown",
   "metadata": {},
   "source": [
    "# Scratchpad"
   ]
  },
  {
   "cell_type": "markdown",
   "metadata": {},
   "source": [
    "The cells below include various older calculations and ideas.  Most of them would have to be updated to work with the current code structure."
   ]
  },
  {
   "cell_type": "code",
   "execution_count": 72,
   "metadata": {},
   "outputs": [
    {
     "ename": "NameError",
     "evalue": "name 'dos_qe' is not defined",
     "output_type": "error",
     "traceback": [
      "\u001b[0;31m---------------------------------------------------------------------------\u001b[0m",
      "\u001b[0;31mNameError\u001b[0m                                 Traceback (most recent call last)",
      "\u001b[0;32m<ipython-input-72-7a53bb6822ab>\u001b[0m in \u001b[0;36m<module>\u001b[0;34m\u001b[0m\n\u001b[1;32m      1\u001b[0m \u001b[0;31m#ewidth=dos_qe[: , 0][1]-dos_qe[: , 0][0]\u001b[0m\u001b[0;34m\u001b[0m\u001b[0;34m\u001b[0m\u001b[0;34m\u001b[0m\u001b[0m\n\u001b[0;32m----> 2\u001b[0;31m \u001b[0mewidth\u001b[0m \u001b[0;34m=\u001b[0m \u001b[0;34m(\u001b[0m\u001b[0mdos_qe\u001b[0m\u001b[0;34m[\u001b[0m\u001b[0;34m:\u001b[0m \u001b[0;34m,\u001b[0m \u001b[0;36m0\u001b[0m\u001b[0;34m]\u001b[0m\u001b[0;34m[\u001b[0m\u001b[0;36m1\u001b[0m\u001b[0;34m]\u001b[0m\u001b[0;34m-\u001b[0m\u001b[0mdos_qe\u001b[0m\u001b[0;34m[\u001b[0m\u001b[0;34m:\u001b[0m \u001b[0;34m,\u001b[0m \u001b[0;36m0\u001b[0m\u001b[0;34m]\u001b[0m\u001b[0;34m[\u001b[0m\u001b[0;36m0\u001b[0m\u001b[0;34m]\u001b[0m\u001b[0;34m)\u001b[0m\u001b[0;34m*\u001b[0m\u001b[0;36m0.5\u001b[0m\u001b[0;34m\u001b[0m\u001b[0;34m\u001b[0m\u001b[0m\n\u001b[0m\u001b[1;32m      3\u001b[0m \u001b[0mprint\u001b[0m\u001b[0;34m(\u001b[0m\u001b[0mewidth\u001b[0m\u001b[0;34m)\u001b[0m\u001b[0;34m\u001b[0m\u001b[0;34m\u001b[0m\u001b[0m\n\u001b[1;32m      4\u001b[0m \u001b[0mra_sigma\u001b[0m \u001b[0;34m=\u001b[0m \u001b[0mnp\u001b[0m\u001b[0;34m.\u001b[0m\u001b[0mlinspace\u001b[0m\u001b[0;34m(\u001b[0m\u001b[0;36m0.5\u001b[0m\u001b[0;34m*\u001b[0m\u001b[0mewidth\u001b[0m\u001b[0;34m,\u001b[0m \u001b[0;36m5\u001b[0m\u001b[0;34m*\u001b[0m\u001b[0mewidth\u001b[0m\u001b[0;34m,\u001b[0m \u001b[0;36m11\u001b[0m\u001b[0;34m)\u001b[0m\u001b[0;34m\u001b[0m\u001b[0;34m\u001b[0m\u001b[0m\n\u001b[1;32m      5\u001b[0m \u001b[0mra_enum\u001b[0m \u001b[0;34m=\u001b[0m \u001b[0mnp\u001b[0m\u001b[0;34m.\u001b[0m\u001b[0mzeros\u001b[0m\u001b[0;34m(\u001b[0m\u001b[0mlen\u001b[0m\u001b[0;34m(\u001b[0m\u001b[0mra_sigma\u001b[0m\u001b[0;34m)\u001b[0m\u001b[0;34m)\u001b[0m\u001b[0;34m\u001b[0m\u001b[0;34m\u001b[0m\u001b[0m\n",
      "\u001b[0;31mNameError\u001b[0m: name 'dos_qe' is not defined"
     ]
    }
   ],
   "source": [
    "#ewidth=dos_qe[: , 0][1]-dos_qe[: , 0][0]\n",
    "ewidth = (dos_qe[: , 0][1]-dos_qe[: , 0][0])*0.5\n",
    "print(ewidth)\n",
    "ra_sigma = np.linspace(0.5*ewidth, 5*ewidth, 11)\n",
    "ra_enum = np.zeros(len(ra_sigma))\n",
    "ra_eband = np.zeros(len(ra_sigma))\n",
    "ra_en = np.linspace(dos_qe[0, 0], dos_qe[-1, 0], int((dos_qe[-1, 0]-dos_qe[0, 0])/ewidth)) \n",
    "for i in range(len(ra_sigma)):\n",
    "    print(\"i:\", i)\n",
    "    # Generate electron number \n",
    "    ra_enum[i] = gen_enum(k_weights_qe, ra_en, eigs_qe, sigma=ra_sigma[i])\n",
    "    # Generate band energy\n",
    "    ra_eband[i] = gen_eband(k_weights_qe, ra_en , eigs_qe, sigma=ra_sigma[i])\n",
    "print(ra_en[1]-ra_en[0])\n",
    "print(ra_enum)\n",
    "print(ra_eband)"
   ]
  },
  {
   "cell_type": "code",
   "execution_count": null,
   "metadata": {},
   "outputs": [],
   "source": [
    "# Plot data        \n",
    "plt.figure(figsize=[8,6])\n",
    "ax = plt.subplot(1,1,1)\n",
    "ax.set_xlabel(r'Width of smearing [Ry]')\n",
    "#ax.set_ylabel(r'D(E)')\n",
    "plt.rcParams.update({'font.size': 22})\n",
    "\n",
    "#ax.set_ylim(767.95, 768.05)\n",
    "\n",
    "ax.hlines(enum_ref, ra_sigma[0], ra_sigma[-1], linewidth=3)\n",
    "ax.plot(ra_sigma,  ra_enum, linestyle='-',  linewidth=3, color='blue', label='Electron number')\n",
    "\n",
    "# Legend\n",
    "ax.legend(loc='upper right',frameon=False, bbox_to_anchor=(1.5, 1))\n",
    "plt.show()"
   ]
  },
  {
   "cell_type": "code",
   "execution_count": null,
   "metadata": {},
   "outputs": [],
   "source": [
    "# Plot data        \n",
    "plt.figure(figsize=[8,6])\n",
    "ax = plt.subplot(1,1,1)\n",
    "ax.set_xlabel(r'Width of smearing [Ry]')\n",
    "#ax.set_ylabel(r'D(E)')\n",
    "plt.rcParams.update({'font.size': 22})\n",
    "\n",
    "\n",
    "ax.hlines(eband_ref/Ry2eV, ra_sigma[0], ra_sigma[-1], linewidth=3)\n",
    "ax.scatter(ra_sigma,  ra_eband, linestyle='-',  linewidth=3, color='red', label='Band energy')\n",
    "\n",
    "# Legend\n",
    "ax.legend(loc='upper right',frameon=False, bbox_to_anchor=(1.5, 1))\n",
    "plt.show()\n",
    "print(np.min(abs(ra_eband-eband_ref/Ry2eV))/256)"
   ]
  },
  {
   "cell_type": "code",
   "execution_count": null,
   "metadata": {},
   "outputs": [],
   "source": [
    "print(4*ra_sigma[0])"
   ]
  },
  {
   "cell_type": "code",
   "execution_count": null,
   "metadata": {},
   "outputs": [],
   "source": [
    "ra_dos = gen_DOS(k_weights_qe, ra_en, eigs_qe, sigma=ra_sigma[1] )"
   ]
  },
  {
   "cell_type": "code",
   "execution_count": null,
   "metadata": {},
   "outputs": [],
   "source": [
    "# Plot data        \n",
    "plt.figure(figsize=[8,6])\n",
    "ax = plt.subplot(1,1,1)\n",
    "ax.set_xlabel(r'E [eV]')\n",
    "ax.set_ylabel(r'D(E)')\n",
    "plt.rcParams.update({'font.size': 22})\n",
    "\n",
    "ax.plot(ra_en        , ra_dos,        linestyle='-',  linewidth=1, color='red',  label='computed (adjusted width)')\n",
    "ax.plot(dos_qe[: , 0], dos_qe[: , 1], linestyle='-',  linewidth=1, color='black', label='QE-DOS')\n",
    "\n",
    "# Legend\n",
    "ax.legend(loc='upper right',frameon=False, bbox_to_anchor=(2, 1))\n",
    "plt.show()"
   ]
  },
  {
   "cell_type": "code",
   "execution_count": null,
   "metadata": {},
   "outputs": [],
   "source": [
    "# Generate electron number \n",
    "ra_en = dos_qe[: , 0]\n",
    "sigma_mod = sigma_qe*0.79255\n",
    "gen_enum(k_weights_qe, ra_en, eigs_qe, sigma=sigma_mod )"
   ]
  },
  {
   "cell_type": "markdown",
   "metadata": {},
   "source": [
    "The \"band energy\" is also called the \"single-particle energy\" or the \"one-electron energy\" and is obtained from a weighted sum of the eigenvalues\n",
    "\n",
    "$$E_{band} = \\sum_i \\sum_k w_k\\, f(\\epsilon_{ik}) \\epsilon_{ik}\\ .$$\n",
    "\n",
    "where $i$ labels the band, $k$ labels the k point, $w_k$ is the weight of the k point, and $f(\\epsilon_{ik})$ is the occupation of the state, which is given by the Fermi-Dirac distribution function evaluated at energy $\\epsilon_{ik}$.\n",
    "\n",
    "For look at the particular values for a given snapshot (data from ```blake.sandia.gov:/home/acangi/q-e_calcs/Al/datasets/vasp_econ_snapshots/298K/2.699g/170726180545.0/100Ry_k333```). QE prints the one-electron energy in the standard output, together with all the other energy contributions, e.g., \n",
    "```\n",
    "The total energy is the sum of the following terms:                                                  \n",
    "\n",
    "\n",
    "     one-electron contribution =     737.82754675 Ry\n",
    "     hartree contribution      =       4.77073244 Ry\n",
    "     xc contribution           =    -554.09988814 Ry\n",
    "     ewald contribution        =   -1375.56724973 Ry\n",
    "     smearing contrib. (-TS)   =      -0.02019845 Ry\n",
    "```\n",
    "However, what QE prints as the \"one-electron contribution\" is not the sum of the eigenvalues, but instead (see source code ```~/PW/src/electrons.f90``` lines 638-640)\n",
    "\n",
    "$$\\text{one-electron contribution} = \\sum_i \\epsilon_i - (E_h + E_{xc})$$\n",
    "\n",
    "In order to correctly compare the band energy obtained from integrating the DOS with the QE output we need to add the hartree and exchange-correlation contributions to the one-electron contribution."
   ]
  },
  {
   "cell_type": "code",
   "execution_count": null,
   "metadata": {},
   "outputs": [],
   "source": [
    "737.82754675"
   ]
  },
  {
   "cell_type": "markdown",
   "metadata": {},
   "source": [
    "The correct band energy from QE output is"
   ]
  },
  {
   "cell_type": "code",
   "execution_count": null,
   "metadata": {},
   "outputs": [],
   "source": [
    "eband_qe = 737.82754675+4.77073244-554.09988814\n",
    "print(eband_qe)"
   ]
  },
  {
   "cell_type": "markdown",
   "metadata": {},
   "source": [
    "Error in band energy compared to QE output"
   ]
  },
  {
   "cell_type": "code",
   "execution_count": null,
   "metadata": {},
   "outputs": [],
   "source": [
    "# Error in band energy (due to discretization of the energy grid in DOS calculation and choice of smearing width)\n",
    "eband_error = eband-eband_qe\n",
    "print(\"Error in Rydberg\", eband_error)\n",
    "print(\"Error in eV\", eband_error*Ry2eV)"
   ]
  },
  {
   "cell_type": "markdown",
   "metadata": {},
   "source": [
    "By adjusting the width of the Gaussian smearing we achieved the desired accuracy in the band energy, here < 1 meV.\n",
    "The corresponding DOS looks like this:"
   ]
  },
  {
   "cell_type": "code",
   "execution_count": null,
   "metadata": {},
   "outputs": [],
   "source": [
    "# Generate data\n",
    "ra_dos = gen_DOS(k_weights_qe, ra_en, eigs_qe, sigma=sigma_mod )\n",
    "        \n",
    "# Plot data        \n",
    "plt.figure(figsize=[8,6])\n",
    "ax = plt.subplot(1,1,1)\n",
    "ax.set_xlabel(r'E [eV]')\n",
    "ax.set_ylabel(r'D(E)')\n",
    "plt.rcParams.update({'font.size': 22})\n",
    "\n",
    "ax.plot(dos_qe[: , 0],  dos_qe[: , 1], linestyle='-',  linewidth=3, color='black', label='QE-DOS')\n",
    "ax.plot(dos_qe[: , 0] , ra_dos,        linestyle='-',  linewidth=3, color='red',  label='computed (adjusted width)')\n",
    "\n",
    "# Legend\n",
    "ax.legend(loc='upper right',frameon=False, bbox_to_anchor=(2, 1))\n",
    "plt.show()"
   ]
  },
  {
   "cell_type": "markdown",
   "metadata": {},
   "source": [
    "However, we can also increase the smearing width and also obtain an accurate band energy."
   ]
  },
  {
   "cell_type": "code",
   "execution_count": null,
   "metadata": {},
   "outputs": [],
   "source": [
    "# Generate band energy\n",
    "emin = dos_qe[: , 0][0]\n",
    "emax = dos_qe[: , 0][-1]\n",
    "ra_en = dos_qe[: , 0]\n",
    "sigma_mod = sigma_qe*29.177\n",
    "eband = gen_eband(k_weights_qe, ra_en , eigs_qe, sigma=sigma_mod )\n",
    "print(\"smearing width {0} eV ({1} Ry)\".format(sigma_mod, sigma_mod/Ry2eV))\n",
    "print(\"Band energy {0} Ry)\".format(eband))"
   ]
  },
  {
   "cell_type": "code",
   "execution_count": null,
   "metadata": {},
   "outputs": [],
   "source": [
    "# Error in band energy (due to discretization of the energy grid in DOS calculation and choice of smearing width)\n",
    "eband_error = eband-eband_qe\n",
    "print(\"Error in Rydberg\", eband_error)\n",
    "print(\"Error in eV\", eband_error*Ry2eV)"
   ]
  },
  {
   "cell_type": "markdown",
   "metadata": {},
   "source": [
    "The corresponding DOS looks like this:"
   ]
  },
  {
   "cell_type": "code",
   "execution_count": null,
   "metadata": {},
   "outputs": [],
   "source": [
    "# Generate data\n",
    "ra_dos = gen_DOS(k_weights_qe, ra_en, eigs_qe, sigma=sigma_mod )\n",
    "        \n",
    "# Plot data        \n",
    "plt.figure(figsize=[8,6])\n",
    "ax = plt.subplot(1,1,1)\n",
    "ax.set_xlabel(r'E [eV]')\n",
    "ax.set_ylabel(r'D(E)')\n",
    "plt.rcParams.update({'font.size': 22})\n",
    "\n",
    "ax.plot(dos_qe[: , 0], dos_qe[: , 1], linestyle='-',  linewidth=3, color='black', label='QE-DOS')\n",
    "ax.plot(ra_en        , ra_dos,        linestyle='-',  linewidth=3, color='red',  label='computed (adjusted width)')\n",
    "\n",
    "# Legend\n",
    "ax.legend(loc='upper right',frameon=False, bbox_to_anchor=(2, 1))\n",
    "plt.show()"
   ]
  },
  {
   "cell_type": "markdown",
   "metadata": {},
   "source": [
    "We can also generate a different energy grid. However, it the integral quickly converges with respect to the number of grid points. We can increase the range of the enegy grid to make sure the DOS decays to zero at the limits."
   ]
  },
  {
   "cell_type": "code",
   "execution_count": null,
   "metadata": {},
   "outputs": [],
   "source": [
    "# Generate band energy\n",
    "emin = dos_qe[: , 0][0]-1\n",
    "emax = dos_qe[: , 0][-1]+1\n",
    "# Decrease the number of energy grid points\n",
    "ra_en = np.linspace(emin, emax, int(len(dos_qe[: , 0])))\n",
    "sigma_mod = sigma_qe*29.908\n",
    "eband = gen_eband(k_weights_qe, ra_en , eigs_qe, sigma=sigma_mod )\n",
    "print(\"smearing width {0} eV ({1} Ry)\".format(sigma_mod, sigma_mod/Ry2eV))\n",
    "print(\"Band energy {0} Ry)\".format(eband))"
   ]
  },
  {
   "cell_type": "code",
   "execution_count": null,
   "metadata": {},
   "outputs": [],
   "source": [
    "# Error in band energy (due to discretization of the energy grid in DOS calculation and choice of smearing width)\n",
    "eband_error = eband-eband_qe\n",
    "print(\"Error in Rydberg\", eband_error)\n",
    "print(\"Error in eV\", eband_error*Ry2eV)"
   ]
  },
  {
   "cell_type": "markdown",
   "metadata": {},
   "source": [
    "The corresponding DOS looks like:"
   ]
  },
  {
   "cell_type": "code",
   "execution_count": null,
   "metadata": {},
   "outputs": [],
   "source": [
    "# Generate data\n",
    "ra_dos = gen_DOS(k_weights_qe, ra_en, eigs_qe, sigma=sigma_mod )\n",
    "        \n",
    "# Plot data        \n",
    "plt.figure(figsize=[8,6])\n",
    "ax = plt.subplot(1,1,1)\n",
    "ax.set_xlabel(r'E [eV]')\n",
    "ax.set_ylabel(r'D(E)')\n",
    "plt.rcParams.update({'font.size': 22})\n",
    "\n",
    "ax.plot(dos_qe[: , 0], dos_qe[: , 1], linestyle='-',  linewidth=3, color='black', label='QE-DOS')\n",
    "ax.plot(ra_en        , ra_dos,        linestyle='-',  linewidth=3, color='red',  label='computed (adjusted width)')\n",
    "\n",
    "# Legend\n",
    "ax.legend(loc='upper right',frameon=False, bbox_to_anchor=(2, 1))\n",
    "plt.show()"
   ]
  },
  {
   "cell_type": "markdown",
   "metadata": {},
   "source": [
    "Check for another snapshot.\n",
    "The band energy from the QE output of snapshot 1 is:"
   ]
  },
  {
   "cell_type": "code",
   "execution_count": null,
   "metadata": {},
   "outputs": [],
   "source": [
    "eband_qe_01 = 739.08601067+4.18224128-553.98606038\n",
    "print(eband_qe_01)"
   ]
  },
  {
   "cell_type": "code",
   "execution_count": null,
   "metadata": {},
   "outputs": [],
   "source": [
    "ewidth_01=dos_qe_01[: , 0][1]-dos_qe_01[: , 0][0]\n",
    "print(ewidth_01)\n",
    "emin = dos_qe_01[: , 0][0]-1\n",
    "emax = dos_qe_01[: , 0][-1]+1\n",
    "ra_en_01 = np.linspace(emin, emax, int(len(dos_qe_01[: , 0])))\n",
    "ra_sigma_01 = np.linspace(20*ewidth_01, ewidth_01, 101)\n",
    "ra_enum_01 = np.zeros(len(ra_sigma_01))\n",
    "ra_eband_01 = np.zeros(len(ra_sigma_01))\n",
    "for i in range(len(ra_sigma)):\n",
    "    ra_en_01 = dos_qe[: , 0]\n",
    "    # Generate electron number \n",
    "    ra_enum_01[i] = gen_enum(k_weights_qe_01, ra_en_01, eigs_qe_01, sigma=ra_sigma_01[i])\n",
    "    # Generate band energy\n",
    "    ra_eband_01[i] = gen_eband(k_weights_qe_01, ra_en_01, eigs_qe_01, sigma=ra_sigma_01[i])\n",
    "print(ra_enum_01)\n",
    "print(ra_eband_01)"
   ]
  },
  {
   "cell_type": "code",
   "execution_count": null,
   "metadata": {},
   "outputs": [],
   "source": [
    "# Plot data        \n",
    "plt.figure(figsize=[8,6])\n",
    "ax = plt.subplot(1,1,1)\n",
    "ax.set_xlabel(r'Width of energy bin [Ry]')\n",
    "#ax.set_ylabel(r'D(E)')\n",
    "plt.rcParams.update({'font.size': 22})\n",
    "\n",
    "ax.hlines(768, ra_sigma_01[0], ra_sigma_01[-1], linewidth=3)\n",
    "ax.plot(ra_sigma_01,  ra_enum_01, linestyle='-',  linewidth=3, color='blue', label='Electron number')\n",
    "\n",
    "# Legend\n",
    "ax.legend(loc='upper right',frameon=False, bbox_to_anchor=(1.5, 1))\n",
    "plt.show()"
   ]
  },
  {
   "cell_type": "code",
   "execution_count": null,
   "metadata": {},
   "outputs": [],
   "source": [
    "# Plot data        \n",
    "plt.figure(figsize=[8,6])\n",
    "ax = plt.subplot(1,1,1)\n",
    "ax.set_xlabel(r'Width of energy bin [Ry]')\n",
    "#ax.set_ylabel(r'D(E)')\n",
    "plt.rcParams.update({'font.size': 22})\n",
    "\n",
    "ax.hlines(eband_qe_01, ra_sigma_01[0], ra_sigma_01[-1], linewidth=3)\n",
    "ax.plot(ra_sigma_01,  ra_eband_01, linestyle='-',  linewidth=3, color='red', label='Band energy')\n",
    "\n",
    "# Legend\n",
    "ax.legend(loc='upper right',frameon=False, bbox_to_anchor=(1.5, 1))\n",
    "plt.show()"
   ]
  },
  {
   "cell_type": "code",
   "execution_count": null,
   "metadata": {},
   "outputs": [],
   "source": [
    "# Generate band energy\n",
    "emin = dos_qe_01[: , 0][0]-1\n",
    "emax = dos_qe_01[: , 0][-1]+1\n",
    "# Decrease the number of energy grid points\n",
    "ra_en = np.linspace(emin, emax, 2*int(len(dos_qe_01[: , 0])))\n",
    "sigma_mod = sigma_qe*22.90#22.882\n",
    "eband_01 = gen_eband(k_weights_qe_01, ra_en , eigs_qe_01, sigma=sigma_mod )\n",
    "print(\"smearing width {0} eV ({1} Ry)\".format(sigma_mod, sigma_mod/Ry2eV))\n",
    "print(\"Band energy {0} Ry)\".format(eband_01))"
   ]
  },
  {
   "cell_type": "code",
   "execution_count": null,
   "metadata": {},
   "outputs": [],
   "source": [
    "# Error in band energy (due to discretization of the energy grid in DOS calculation and choice of smearing width)\n",
    "eband_error_01 = eband_01-eband_qe_01\n",
    "print(\"Error in Rydberg\", eband_error_01)\n",
    "print(\"Error in eV\", eband_error_01*Ry2eV)"
   ]
  },
  {
   "cell_type": "markdown",
   "metadata": {},
   "source": [
    "The corresponding DOS looks like:"
   ]
  },
  {
   "cell_type": "code",
   "execution_count": null,
   "metadata": {},
   "outputs": [],
   "source": [
    "# Generate data\n",
    "ra_dos = gen_DOS(k_weights_qe_01, ra_en, eigs_qe_01, sigma=sigma_mod )\n",
    "        \n",
    "# Plot data        \n",
    "plt.figure(figsize=[8,6])\n",
    "ax = plt.subplot(1,1,1)\n",
    "ax.set_xlabel(r'E [eV]')\n",
    "ax.set_ylabel(r'D(E)')\n",
    "plt.rcParams.update({'font.size': 22})\n",
    "\n",
    "ax.plot(dos_qe_01[: , 0], dos_qe_01[: , 1], linestyle='-',  linewidth=3, color='black', label='QE-DOS')\n",
    "ax.plot(ra_en           , ra_dos,           linestyle='-',  linewidth=3, color='red',   label='computed (adjusted width)')\n",
    "\n",
    "# Legend\n",
    "ax.legend(loc='upper right',frameon=False, bbox_to_anchor=(2, 1))\n",
    "plt.show()"
   ]
  },
  {
   "cell_type": "markdown",
   "metadata": {},
   "source": [
    "This illustrates the issue with Gaussian smearing. The smearing width differs between the different snapshots. This means we cannot choose a fixed smearing width and obtain high accuracy in the band energy throughout a priori (i.e. without knowing the true value of the band energy). However, this might be fine, since we need to choose the smearing width only for the generation of training data. It might be somewhat inconvenient, but for each snapshot in the training data we can find the corresponding smearing width which will yield a band energy up to a target accuracy."
   ]
  },
  {
   "cell_type": "markdown",
   "metadata": {},
   "source": [
    "To do\n",
    "* Perform search over smearing width using sp.optimize library. But this requires adapting the definitions of the functions above.\n",
    "* Different representation of the $\\delta$ function, for example Marzari-Vanderbilt (MV)."
   ]
  },
  {
   "cell_type": "code",
   "execution_count": null,
   "metadata": {},
   "outputs": [],
   "source": [
    "# Define MV representation of delta function\n",
    "def MV(en, mu, sigma):\n",
    "    x = (mu-en)/sigma\n",
    "    result = 1.0/np.sqrt(np.pi)*(2.0-np.sqrt(2)*x)*np.exp(-1.0*(x-(1.0/np.sqrt(2)))**2)\n",
    "    return result"
   ]
  },
  {
   "cell_type": "code",
   "execution_count": null,
   "metadata": {},
   "outputs": [],
   "source": [
    "# Sanity check of smearing functions\n",
    "# Generate data\n",
    "ra_en = np.linspace(7.,9.,601)\n",
    "ra_gaussian = gaussian(ra_en, eF=fermi_energy, sigma=sigma_qe)\n",
    "ra_MV = MV(ra_en, mu=fermi_energy, sigma=sigma_qe*2)\n",
    "        \n",
    "# Plot data        \n",
    "plt.figure(figsize=[8,6])\n",
    "ax = plt.subplot(1,1,1)\n",
    "ax.set_xlabel(r'E [eV]')\n",
    "ax.set_ylabel(r'D(E)')\n",
    "plt.rcParams.update({'font.size': 22})\n",
    "\n",
    "ax.plot(ra_en, ra_MV, linestyle='-',  linewidth=3, color='red', label='MV')\n",
    "#ax.plot(ra_en, ra_gaussian, linestyle='-',  linewidth=3, color='blue', label='gaussian')\n",
    "\n",
    "# Legend\n",
    "ax.legend(loc='upper right',frameon=False, bbox_to_anchor=(1.5, 1))\n",
    "plt.show()"
   ]
  },
  {
   "cell_type": "code",
   "execution_count": null,
   "metadata": {},
   "outputs": [],
   "source": [
    "# Function generating DOS from eigenvalues\n",
    "def gen_DOS_ST(k_weights, array_en, array_eigs, sigma, smearing_type):\n",
    "    # input:\n",
    "    ## k_weights: weights of k-point summation (taken from QE output)\n",
    "    ## array_en: energy grid [eV]\n",
    "    ## array_eigs: array[dim_bnd, dim_k] containing eigenvalues (\\epsilon_{i,k})\n",
    "    ## sigma: width of Gaussian [eV]\n",
    "    # output:\n",
    "    ## array_dos: ra_dos\n",
    "    ## array_dos_contr: ra_dos_ik (terms for each i,k)\n",
    "    dim_bnd = len((array_eigs[: , 0]))\n",
    "    dim_k = len((array_eigs[0 , :]))\n",
    "    ra_en = array_en #dos_qe[: , 0]       # energy grid (same as QE-DOS input/output) \n",
    "    ra_dos_ik = [[] for i in range(dim_bnd)]\n",
    "    ra_dos = np.zeros(len(array_en)) #create empty array\n",
    "    for idx_bnd in range(dim_bnd):\n",
    "        for idx_k in range(dim_k):\n",
    "            if (smearing_type == 1):\n",
    "                smearing = gaussian(en=array_en, eF=array_eigs[idx_bnd , :][idx_k], sigma=sigma)\n",
    "            elif (smearing_type == 2):\n",
    "                smearing = MV(en=array_en, mu=array_eigs[idx_bnd , :][idx_k], sigma=sigma)\n",
    "            else:\n",
    "                print(\"Error, choose valid smearing function.\")\n",
    "            ra_dos_ik[idx_bnd].append(smearing)\n",
    "            # Sum the Gaussians over idx_band and idx_k\n",
    "            ra_dos += k_weights[idx_k]*ra_dos_ik[idx_bnd][idx_k]\n",
    "    return ra_dos #, ra_dos_ik"
   ]
  },
  {
   "cell_type": "code",
   "execution_count": null,
   "metadata": {},
   "outputs": [],
   "source": [
    "# Generate data\n",
    "ra_en = dos_qe[: , 0]\n",
    "ra_dos = gen_DOS_ST(k_weights_qe, ra_en, eigs_qe, sigma=sigma_qe*Ry2eV,smearing_type=2)\n",
    "\n",
    "# Plot data        \n",
    "plt.figure(figsize=[8,6])\n",
    "ax = plt.subplot(1,1,1)\n",
    "ax.set_xlabel(r'E [eV]')\n",
    "ax.set_ylabel(r'D(E)')\n",
    "plt.rcParams.update({'font.size': 22})\n",
    "\n",
    "ax.plot(dos_qe[: , 0],  dos_qe[: , 1], linestyle='-',  linewidth=3, color='black', label='QE-DOS')\n",
    "ax.plot(dos_qe[: , 0] , ra_dos,        linestyle='--', linewidth=3, color='red',  label='computed')\n",
    "\n",
    "# Legend\n",
    "ax.legend(loc='upper right',frameon=False, bbox_to_anchor=(1.5, 1))\n",
    "plt.show()"
   ]
  },
  {
   "cell_type": "code",
   "execution_count": null,
   "metadata": {},
   "outputs": [],
   "source": [
    "# Function generating band energy from DOS\n",
    "## Integrate DOS*E*FD to obtain band energy\n",
    "def gen_eband_ST(k_weights, array_en, array_eigs, sigma, smearing_type):\n",
    "    # input:\n",
    "    ## k_weights: weights of k-point summation (taken from QE output)\n",
    "    ## array_en: energy grid [eV]\n",
    "    ## array_eigs: array[dim_bnd, dim_k] containing eigenvalues (\\epsilon_{i,k})\n",
    "    ## sigma: width of Gaussian [eV]\n",
    "    # output:\n",
    "    ## array_dos: ra_dos\n",
    "    ## array_dos_contr: ra_dos_ik (terms for each i,k)\n",
    "    ra_fd = fd_function(array_en, eF=fermi_energy, t=temp)\n",
    "    #ra_dos, ra_dos_ik = gen_DOS(k_weights_qe, array_en, eigs_qe, sigma)\n",
    "    ra_dos = gen_DOS_ST(k_weights_qe, array_en, eigs_qe, sigma, smearing_type)\n",
    "    eband = sp.integrate.trapz(ra_dos*array_en*ra_fd, array_en)\n",
    "    #Convert from eV to Ry for comparison with QE output\n",
    "    eband_Ry = eband/Ry2eV\n",
    "    return eband_Ry"
   ]
  },
  {
   "cell_type": "code",
   "execution_count": null,
   "metadata": {},
   "outputs": [],
   "source": [
    "# Generate band energy\n",
    "emin = dos_qe[: , 0][0]-1\n",
    "emax = dos_qe[: , 0][-1]+1\n",
    "ra_en = np.linspace(emin, emax, int(len(dos_qe[: , 0])))\n",
    "sigma_mod = sigma_qe*30.56825\n",
    "eband = gen_eband_ST(k_weights_qe, ra_en , eigs_qe, sigma=sigma_mod, smearing_type=2)\n",
    "print(\"smearing width {0} eV ({1} Ry)\".format(sigma_mod, sigma_mod/Ry2eV))\n",
    "print(\"Band energy {0} Ry)\".format(eband))"
   ]
  },
  {
   "cell_type": "code",
   "execution_count": null,
   "metadata": {},
   "outputs": [],
   "source": [
    "# Error in band energy (due to discretization of the energy grid in DOS calculation and choice of smearing width)\n",
    "eband_error = eband-eband_qe\n",
    "print(\"Error in Rydberg\", eband_error)\n",
    "print(\"Error in eV\", eband_error*Ry2eV)"
   ]
  },
  {
   "cell_type": "code",
   "execution_count": null,
   "metadata": {},
   "outputs": [],
   "source": [
    "# Generate data\n",
    "ra_dos = gen_DOS_ST(k_weights_qe, ra_en, eigs_qe, sigma=sigma_mod, smearing_type=2)\n",
    "        \n",
    "# Plot data        \n",
    "plt.figure(figsize=[8,6])\n",
    "ax = plt.subplot(1,1,1)\n",
    "ax.set_xlabel(r'E [eV]')\n",
    "ax.set_ylabel(r'D(E)')\n",
    "plt.rcParams.update({'font.size': 22})\n",
    "\n",
    "ax.plot(dos_qe[: , 0],  dos_qe[: , 1], linestyle='-',  linewidth=3, color='black', label='QE-DOS')\n",
    "ax.plot(dos_qe[: , 0] , ra_dos,        linestyle='-',  linewidth=3, color='red',  label='computed (adjusted width)')\n",
    "\n",
    "# Legend\n",
    "ax.legend(loc='upper right',frameon=False, bbox_to_anchor=(2, 1))\n",
    "plt.show()"
   ]
  },
  {
   "cell_type": "code",
   "execution_count": null,
   "metadata": {},
   "outputs": [],
   "source": []
  },
  {
   "cell_type": "code",
   "execution_count": null,
   "metadata": {},
   "outputs": [],
   "source": []
  },
  {
   "cell_type": "code",
   "execution_count": null,
   "metadata": {},
   "outputs": [],
   "source": []
  }
 ],
 "metadata": {
  "kernelspec": {
   "display_name": "Python 3",
   "language": "python",
   "name": "python3"
  },
  "language_info": {
   "codemirror_mode": {
    "name": "ipython",
    "version": 3
   },
   "file_extension": ".py",
   "mimetype": "text/x-python",
   "name": "python",
   "nbconvert_exporter": "python",
   "pygments_lexer": "ipython3",
   "version": "3.8.2"
  }
 },
 "nbformat": 4,
 "nbformat_minor": 2
}
