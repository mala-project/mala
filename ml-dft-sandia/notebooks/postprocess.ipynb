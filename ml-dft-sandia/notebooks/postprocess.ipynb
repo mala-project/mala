{
 "cells": [
  {
   "cell_type": "code",
   "execution_count": 1,
   "metadata": {},
   "outputs": [
    {
     "name": "stdout",
     "output_type": "stream",
     "text": [
      "Populating the interactive namespace from numpy and matplotlib\n"
     ]
    }
   ],
   "source": [
    "# Load packages\n",
    "import math\n",
    "import scipy as sp\n",
    "import numpy as np\n",
    "from scipy import optimize\n",
    "#from scipy import interpolate\n",
    "#from scipy.interpolate import InterpolatedUnivariateSpline\n",
    "#from scipy import integrate\n",
    "%pylab inline\n",
    "#from scipy.optimize import fmin, curve_fit\n",
    "import pandas as pd\n",
    "#import mpmath as mp\n",
    "#from mpmath import polylog\n",
    "import seaborn as sns\n",
    "from IPython.display import HTML"
   ]
  },
  {
   "cell_type": "markdown",
   "metadata": {},
   "source": [
    "## Comparison of forces"
   ]
  },
  {
   "cell_type": "code",
   "execution_count": 2,
   "metadata": {},
   "outputs": [],
   "source": [
    "# Load data files\n",
    "filepath='/Users/acangi/WORK/proj/MLMM_LDRD/mlmm-ldrd-data/aluminum/code-comparison/'\n",
    "\n",
    "## vasp\n",
    "raForces_vasp = np.loadtxt(filepath+'forces_vasp.csv', delimiter=',', usecols={0,1,2}, dtype=np.float)\n",
    "\n",
    "## qe\n",
    "raForces_qe = np.loadtxt(filepath+'forces_qe.csv', delimiter=',', usecols={0,1,2}, dtype=np.float)"
   ]
  },
  {
   "cell_type": "code",
   "execution_count": 3,
   "metadata": {},
   "outputs": [],
   "source": [
    "# Convert units\n",
    "## Conversion factors\n",
    "Rydberg2eV = 13.6056980659\n",
    "Bohr2Ang = 0.529177\n",
    "\n",
    "## Convert qe forces from Ry/Bohr to eV/Angstrom\n",
    "raForces_qe_cnvt = raForces_qe*Rydberg2eV/Bohr2Ang\n",
    "\n",
    "## Difference in forces\n",
    "tabDeltaForces = raForces_vasp - raForces_qe_cnvt"
   ]
  },
  {
   "cell_type": "code",
   "execution_count": 4,
   "metadata": {},
   "outputs": [
    {
     "data": {
      "text/plain": [
       "0.054608880128638404"
      ]
     },
     "execution_count": 4,
     "metadata": {},
     "output_type": "execute_result"
    }
   ],
   "source": [
    "np.max(np.abs(tabDeltaForces))"
   ]
  },
  {
   "cell_type": "code",
   "execution_count": 5,
   "metadata": {},
   "outputs": [],
   "source": [
    "# Compute mean and standard deviation\n",
    "AD, STD = np.mean(tabDeltaForces), np.std(tabDeltaForces)"
   ]
  },
  {
   "cell_type": "code",
   "execution_count": 6,
   "metadata": {},
   "outputs": [],
   "source": [
    "# Compute absolute mean and absolute standard deviation\n",
    "AAD, ASTD = np.mean(abs(tabDeltaForces)), np.std(abs(tabDeltaForces))"
   ]
  },
  {
   "cell_type": "code",
   "execution_count": 7,
   "metadata": {},
   "outputs": [
    {
     "data": {
      "text/plain": [
       "(-4.946491356861077e-07, 0.01891805923542814)"
      ]
     },
     "execution_count": 7,
     "metadata": {},
     "output_type": "execute_result"
    }
   ],
   "source": [
    "AD, STD"
   ]
  },
  {
   "cell_type": "code",
   "execution_count": 8,
   "metadata": {},
   "outputs": [
    {
     "data": {
      "text/plain": [
       "(0.01546489428387067, 0.010896330128467564)"
      ]
     },
     "execution_count": 8,
     "metadata": {},
     "output_type": "execute_result"
    }
   ],
   "source": [
    "#\n",
    "AAD, ASTD"
   ]
  },
  {
   "cell_type": "code",
   "execution_count": 9,
   "metadata": {},
   "outputs": [
    {
     "data": {
      "text/plain": [
       "0.191582366095191"
      ]
     },
     "execution_count": 9,
     "metadata": {},
     "output_type": "execute_result"
    }
   ],
   "source": [
    "# Mean absoulte percentage deviation\n",
    "AAD/np.max(abs(raForces_qe_cnvt))*100"
   ]
  },
  {
   "cell_type": "code",
   "execution_count": 10,
   "metadata": {},
   "outputs": [
    {
     "data": {
      "text/html": [
       "<div>\n",
       "<style scoped>\n",
       "    .dataframe tbody tr th:only-of-type {\n",
       "        vertical-align: middle;\n",
       "    }\n",
       "\n",
       "    .dataframe tbody tr th {\n",
       "        vertical-align: top;\n",
       "    }\n",
       "\n",
       "    .dataframe thead th {\n",
       "        text-align: right;\n",
       "    }\n",
       "</style>\n",
       "<table border=\"1\" class=\"dataframe\">\n",
       "  <thead>\n",
       "    <tr style=\"text-align: right;\">\n",
       "      <th></th>\n",
       "      <th>x</th>\n",
       "      <th>y</th>\n",
       "      <th>z</th>\n",
       "    </tr>\n",
       "  </thead>\n",
       "  <tbody>\n",
       "    <tr>\n",
       "      <th>0</th>\n",
       "      <td>-0.022537</td>\n",
       "      <td>-0.022397</td>\n",
       "      <td>0.017390</td>\n",
       "    </tr>\n",
       "    <tr>\n",
       "      <th>1</th>\n",
       "      <td>0.019059</td>\n",
       "      <td>0.023620</td>\n",
       "      <td>-0.016686</td>\n",
       "    </tr>\n",
       "    <tr>\n",
       "      <th>2</th>\n",
       "      <td>0.021634</td>\n",
       "      <td>0.019195</td>\n",
       "      <td>-0.000053</td>\n",
       "    </tr>\n",
       "    <tr>\n",
       "      <th>3</th>\n",
       "      <td>0.023948</td>\n",
       "      <td>-0.020076</td>\n",
       "      <td>0.043107</td>\n",
       "    </tr>\n",
       "    <tr>\n",
       "      <th>4</th>\n",
       "      <td>0.026041</td>\n",
       "      <td>-0.010650</td>\n",
       "      <td>0.009122</td>\n",
       "    </tr>\n",
       "    <tr>\n",
       "      <th>5</th>\n",
       "      <td>0.020240</td>\n",
       "      <td>0.013751</td>\n",
       "      <td>0.023454</td>\n",
       "    </tr>\n",
       "    <tr>\n",
       "      <th>6</th>\n",
       "      <td>-0.003563</td>\n",
       "      <td>-0.002417</td>\n",
       "      <td>-0.003920</td>\n",
       "    </tr>\n",
       "    <tr>\n",
       "      <th>7</th>\n",
       "      <td>-0.005582</td>\n",
       "      <td>0.003436</td>\n",
       "      <td>0.019703</td>\n",
       "    </tr>\n",
       "    <tr>\n",
       "      <th>8</th>\n",
       "      <td>0.008100</td>\n",
       "      <td>-0.000550</td>\n",
       "      <td>-0.001811</td>\n",
       "    </tr>\n",
       "    <tr>\n",
       "      <th>9</th>\n",
       "      <td>-0.025523</td>\n",
       "      <td>0.024057</td>\n",
       "      <td>-0.030199</td>\n",
       "    </tr>\n",
       "    <tr>\n",
       "      <th>10</th>\n",
       "      <td>0.012439</td>\n",
       "      <td>-0.021227</td>\n",
       "      <td>-0.021183</td>\n",
       "    </tr>\n",
       "    <tr>\n",
       "      <th>11</th>\n",
       "      <td>0.030189</td>\n",
       "      <td>-0.004612</td>\n",
       "      <td>-0.008447</td>\n",
       "    </tr>\n",
       "    <tr>\n",
       "      <th>12</th>\n",
       "      <td>-0.035746</td>\n",
       "      <td>0.043295</td>\n",
       "      <td>0.019007</td>\n",
       "    </tr>\n",
       "    <tr>\n",
       "      <th>13</th>\n",
       "      <td>0.006569</td>\n",
       "      <td>-0.000585</td>\n",
       "      <td>-0.011529</td>\n",
       "    </tr>\n",
       "    <tr>\n",
       "      <th>14</th>\n",
       "      <td>0.007962</td>\n",
       "      <td>0.008863</td>\n",
       "      <td>0.008664</td>\n",
       "    </tr>\n",
       "    <tr>\n",
       "      <th>15</th>\n",
       "      <td>-0.013066</td>\n",
       "      <td>-0.014063</td>\n",
       "      <td>0.010798</td>\n",
       "    </tr>\n",
       "    <tr>\n",
       "      <th>16</th>\n",
       "      <td>0.015031</td>\n",
       "      <td>-0.022828</td>\n",
       "      <td>-0.012386</td>\n",
       "    </tr>\n",
       "    <tr>\n",
       "      <th>17</th>\n",
       "      <td>-0.030767</td>\n",
       "      <td>-0.005241</td>\n",
       "      <td>-0.004074</td>\n",
       "    </tr>\n",
       "    <tr>\n",
       "      <th>18</th>\n",
       "      <td>-0.015550</td>\n",
       "      <td>0.000575</td>\n",
       "      <td>0.018040</td>\n",
       "    </tr>\n",
       "    <tr>\n",
       "      <th>19</th>\n",
       "      <td>-0.021410</td>\n",
       "      <td>0.017525</td>\n",
       "      <td>-0.019255</td>\n",
       "    </tr>\n",
       "    <tr>\n",
       "      <th>20</th>\n",
       "      <td>-0.008709</td>\n",
       "      <td>-0.025105</td>\n",
       "      <td>-0.037323</td>\n",
       "    </tr>\n",
       "    <tr>\n",
       "      <th>21</th>\n",
       "      <td>-0.019928</td>\n",
       "      <td>-0.021155</td>\n",
       "      <td>0.027445</td>\n",
       "    </tr>\n",
       "    <tr>\n",
       "      <th>22</th>\n",
       "      <td>0.006975</td>\n",
       "      <td>-0.054609</td>\n",
       "      <td>0.051178</td>\n",
       "    </tr>\n",
       "    <tr>\n",
       "      <th>23</th>\n",
       "      <td>0.026862</td>\n",
       "      <td>0.029882</td>\n",
       "      <td>-0.001727</td>\n",
       "    </tr>\n",
       "    <tr>\n",
       "      <th>24</th>\n",
       "      <td>0.015763</td>\n",
       "      <td>-0.017278</td>\n",
       "      <td>-0.017399</td>\n",
       "    </tr>\n",
       "    <tr>\n",
       "      <th>25</th>\n",
       "      <td>0.002982</td>\n",
       "      <td>0.002079</td>\n",
       "      <td>-0.017018</td>\n",
       "    </tr>\n",
       "    <tr>\n",
       "      <th>26</th>\n",
       "      <td>-0.018463</td>\n",
       "      <td>0.006366</td>\n",
       "      <td>-0.004049</td>\n",
       "    </tr>\n",
       "    <tr>\n",
       "      <th>27</th>\n",
       "      <td>0.019955</td>\n",
       "      <td>0.038022</td>\n",
       "      <td>0.010014</td>\n",
       "    </tr>\n",
       "    <tr>\n",
       "      <th>28</th>\n",
       "      <td>-0.022257</td>\n",
       "      <td>0.017349</td>\n",
       "      <td>-0.009230</td>\n",
       "    </tr>\n",
       "    <tr>\n",
       "      <th>29</th>\n",
       "      <td>0.013994</td>\n",
       "      <td>-0.003917</td>\n",
       "      <td>-0.013153</td>\n",
       "    </tr>\n",
       "    <tr>\n",
       "      <th>30</th>\n",
       "      <td>-0.011239</td>\n",
       "      <td>0.015926</td>\n",
       "      <td>-0.008056</td>\n",
       "    </tr>\n",
       "    <tr>\n",
       "      <th>31</th>\n",
       "      <td>-0.008248</td>\n",
       "      <td>-0.017354</td>\n",
       "      <td>-0.017320</td>\n",
       "    </tr>\n",
       "    <tr>\n",
       "      <th>32</th>\n",
       "      <td>-0.005396</td>\n",
       "      <td>-0.005860</td>\n",
       "      <td>-0.010104</td>\n",
       "    </tr>\n",
       "    <tr>\n",
       "      <th>33</th>\n",
       "      <td>0.000010</td>\n",
       "      <td>-0.005750</td>\n",
       "      <td>0.004888</td>\n",
       "    </tr>\n",
       "    <tr>\n",
       "      <th>34</th>\n",
       "      <td>0.009031</td>\n",
       "      <td>0.007135</td>\n",
       "      <td>-0.007747</td>\n",
       "    </tr>\n",
       "    <tr>\n",
       "      <th>35</th>\n",
       "      <td>-0.018805</td>\n",
       "      <td>0.004598</td>\n",
       "      <td>0.009809</td>\n",
       "    </tr>\n",
       "  </tbody>\n",
       "</table>\n",
       "</div>"
      ],
      "text/plain": [
       "           x         y         z\n",
       "0  -0.022537 -0.022397  0.017390\n",
       "1   0.019059  0.023620 -0.016686\n",
       "2   0.021634  0.019195 -0.000053\n",
       "3   0.023948 -0.020076  0.043107\n",
       "4   0.026041 -0.010650  0.009122\n",
       "5   0.020240  0.013751  0.023454\n",
       "6  -0.003563 -0.002417 -0.003920\n",
       "7  -0.005582  0.003436  0.019703\n",
       "8   0.008100 -0.000550 -0.001811\n",
       "9  -0.025523  0.024057 -0.030199\n",
       "10  0.012439 -0.021227 -0.021183\n",
       "11  0.030189 -0.004612 -0.008447\n",
       "12 -0.035746  0.043295  0.019007\n",
       "13  0.006569 -0.000585 -0.011529\n",
       "14  0.007962  0.008863  0.008664\n",
       "15 -0.013066 -0.014063  0.010798\n",
       "16  0.015031 -0.022828 -0.012386\n",
       "17 -0.030767 -0.005241 -0.004074\n",
       "18 -0.015550  0.000575  0.018040\n",
       "19 -0.021410  0.017525 -0.019255\n",
       "20 -0.008709 -0.025105 -0.037323\n",
       "21 -0.019928 -0.021155  0.027445\n",
       "22  0.006975 -0.054609  0.051178\n",
       "23  0.026862  0.029882 -0.001727\n",
       "24  0.015763 -0.017278 -0.017399\n",
       "25  0.002982  0.002079 -0.017018\n",
       "26 -0.018463  0.006366 -0.004049\n",
       "27  0.019955  0.038022  0.010014\n",
       "28 -0.022257  0.017349 -0.009230\n",
       "29  0.013994 -0.003917 -0.013153\n",
       "30 -0.011239  0.015926 -0.008056\n",
       "31 -0.008248 -0.017354 -0.017320\n",
       "32 -0.005396 -0.005860 -0.010104\n",
       "33  0.000010 -0.005750  0.004888\n",
       "34  0.009031  0.007135 -0.007747\n",
       "35 -0.018805  0.004598  0.009809"
      ]
     },
     "execution_count": 10,
     "metadata": {},
     "output_type": "execute_result"
    }
   ],
   "source": [
    "# Difference in forces from vasp and qe [eV/Ang]\n",
    "pd.DataFrame(tabDeltaForces, columns=[\"x\", \"y\", \"z\"])"
   ]
  },
  {
   "cell_type": "code",
   "execution_count": null,
   "metadata": {},
   "outputs": [],
   "source": []
  }
 ],
 "metadata": {
  "kernelspec": {
   "display_name": "Python 2",
   "language": "python",
   "name": "python2"
  },
  "language_info": {
   "codemirror_mode": {
    "name": "ipython",
    "version": 2
   },
   "file_extension": ".py",
   "mimetype": "text/x-python",
   "name": "python",
   "nbconvert_exporter": "python",
   "pygments_lexer": "ipython2",
   "version": "2.7.16"
  }
 },
 "nbformat": 4,
 "nbformat_minor": 2
}
